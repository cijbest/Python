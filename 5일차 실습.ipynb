{
 "cells": [
  {
   "cell_type": "markdown",
   "metadata": {},
   "source": [
    "# 로또 번호"
   ]
  },
  {
   "cell_type": "code",
   "execution_count": 29,
   "metadata": {
    "collapsed": false
   },
   "outputs": [
    {
     "ename": "SyntaxError",
     "evalue": "invalid syntax (<ipython-input-29-883e7a8ec941>, line 16)",
     "output_type": "error",
     "traceback": [
      "\u001b[1;36m  File \u001b[1;32m\"<ipython-input-29-883e7a8ec941>\"\u001b[1;36m, line \u001b[1;32m16\u001b[0m\n\u001b[1;33m    print('보너스 :',bonus)\u001b[0m\n\u001b[1;37m        ^\u001b[0m\n\u001b[1;31mSyntaxError\u001b[0m\u001b[1;31m:\u001b[0m invalid syntax\n"
     ]
    }
   ],
   "source": [
    "import random\n",
    "\n",
    "#random.sample(range(1,46),7) 1~45 숫자 중 7개 뽑아라\n",
    "\n",
    "numbers = []\n",
    "\n",
    "while True:\n",
    "    number = random.randint(1,45)\n",
    "    if number not in numbers:\n",
    "        numbers.append(number)\n",
    "        if len(numbers) == 7:\n",
    "            break\n",
    "\n",
    "result, bonus = numbers[:6],numbers[-1]\n",
    "print('당첨번호 :',result\n",
    "print('보너스 :',bonus)\n",
    "\n"
   ]
  },
  {
   "cell_type": "markdown",
   "metadata": {},
   "source": [
    "# 학교 성적 관리\n",
    "프로그램이 종료되어도, 데이터 복원 기능을 통해 제공\n",
    "+ 성적 현황을 직렬화/비직렬화를 통해 저장/복원하기\n",
    "+ 제공메뉴\n",
    "1. 학생 전체 목록 : 이름, 연락처, 국어/영어/수학 성적 노출\n",
    "2. 성적 평균 TOP 3\n",
    "3. 학생 추가/수정\n",
    "4. 학생 삭제\n",
    "+ 동명이인은 없다고 가정. 동일인의 이름이 추가될 시에 수정으로 처리"
   ]
  },
  {
   "cell_type": "code",
   "execution_count": 29,
   "metadata": {
    "collapsed": false
   },
   "outputs": [
    {
     "name": "stdout",
     "output_type": "stream",
     "text": [
      "---- 제공메뉴 ----\n",
      " 1) 학생 전체목록\n",
      " 2) 성적 평균 TOP3\n",
      " 3) 학생 추가/수정\n",
      " 4) 학생 삭제\n",
      "메뉴 선택 : 2\n",
      "선택한 메뉴 : 2\n",
      "\n",
      "# 성적 평균 TOP3\n"
     ]
    },
    {
     "ename": "TypeError",
     "evalue": "unsupported operand type(s) for /: 'str' and 'int'",
     "output_type": "error",
     "traceback": [
      "\u001b[1;31m---------------------------------------------------------------------------\u001b[0m",
      "\u001b[1;31mTypeError\u001b[0m                                 Traceback (most recent call last)",
      "\u001b[1;32m<ipython-input-29-326fde83793b>\u001b[0m in \u001b[0;36m<module>\u001b[1;34m()\u001b[0m\n\u001b[0;32m     31\u001b[0m         \u001b[1;31m#avg = total/3\u001b[0m\u001b[1;33m\u001b[0m\u001b[1;33m\u001b[0m\u001b[0m\n\u001b[0;32m     32\u001b[0m         \u001b[1;31m#student['평균']= avg\u001b[0m\u001b[1;33m\u001b[0m\u001b[1;33m\u001b[0m\u001b[0m\n\u001b[1;32m---> 33\u001b[1;33m         \u001b[0mstudent\u001b[0m\u001b[1;33m[\u001b[0m\u001b[1;34m'평균'\u001b[0m\u001b[1;33m]\u001b[0m \u001b[1;33m=\u001b[0m \u001b[1;33m(\u001b[0m\u001b[0mstudent\u001b[0m\u001b[1;33m[\u001b[0m\u001b[1;34m'국어'\u001b[0m\u001b[1;33m]\u001b[0m \u001b[1;33m+\u001b[0m \u001b[0mstudent\u001b[0m\u001b[1;33m[\u001b[0m\u001b[1;34m'영어'\u001b[0m\u001b[1;33m]\u001b[0m \u001b[1;33m+\u001b[0m \u001b[0mstudent\u001b[0m\u001b[1;33m[\u001b[0m\u001b[1;34m'수학'\u001b[0m\u001b[1;33m]\u001b[0m\u001b[1;33m)\u001b[0m \u001b[1;33m/\u001b[0m \u001b[1;36m3\u001b[0m\u001b[1;33m\u001b[0m\u001b[0m\n\u001b[0m\u001b[0;32m     34\u001b[0m \u001b[1;33m\u001b[0m\u001b[0m\n\u001b[0;32m     35\u001b[0m     \u001b[1;32mdef\u001b[0m \u001b[0msort_fn\u001b[0m\u001b[1;33m(\u001b[0m\u001b[0mstudent\u001b[0m\u001b[1;33m)\u001b[0m\u001b[1;33m:\u001b[0m\u001b[1;33m\u001b[0m\u001b[0m\n",
      "\u001b[1;31mTypeError\u001b[0m: unsupported operand type(s) for /: 'str' and 'int'"
     ]
    }
   ],
   "source": [
    "import json\n",
    "\n",
    "try:\n",
    "    with open(\"students.json\", \"rt\", encoding=\"utf8\") as f:\n",
    "        json_string = f.read()\n",
    "    students = json.loads(json_string)\n",
    "except FileNotFoundError:\n",
    "    students = []\n",
    "\n",
    "print(\"---- 제공메뉴 ----\")\n",
    "print(\" 1) 학생 전체목록\")\n",
    "print(\" 2) 성적 평균 TOP3\")\n",
    "print(\" 3) 학생 추가/수정\")\n",
    "print(\" 4) 학생 삭제\")\n",
    "menu_number = input(\"메뉴 선택 : \")\n",
    "\n",
    "print(\"선택한 메뉴 :\", menu_number)\n",
    "\n",
    "if menu_number == \"1\":\n",
    "    print()\n",
    "    print(\"# 학생 전체 목록\")\n",
    "    for student in students:\n",
    "        print('{} {} {} {} {}'.format(student['이름'], student['연락처'],\n",
    "                                      student['국어'], student['영어'], student['수학']))\n",
    "elif menu_number == \"2\":\n",
    "    print()\n",
    "    print(\"# 성적 평균 TOP3\")\n",
    "\n",
    "    for student in students:\n",
    "        #total = (int(student['국어'])+int(student['영어'])+int(student['수학']))\n",
    "        #avg = total/3\n",
    "        #student['평균']= avg\n",
    "        student['평균'] = (student['국어'] + student['영어'] + student['수학']) / 3\n",
    "        \n",
    "    def sort_fn(student):\n",
    "        return student['평균']\n",
    "    \n",
    "    print(sorted(students, key=sort_fn, reverse=True)[:3])\n",
    "    \n",
    "elif menu_number == \"3\":\n",
    "    while True:\n",
    "        print(\"학생의 이름/연락처/국어/영어/수학점수를 입력해주세요.\")\n",
    "        print(\"입력 예) 김파이 01012341234 90 80 60\")\n",
    "        line = input(\"입력해주세요. : \")\n",
    "        if line != 'n':\n",
    "            words = line.split(' ')\n",
    "            student = {\n",
    "                '이름': words[0],\n",
    "                '연락처': words[1],\n",
    "                '국어': words[2],\n",
    "                '영어': words[3],\n",
    "                '수학': words[4],\n",
    "            }\n",
    "            students.append(student)\n",
    "        else:\n",
    "            break\n",
    "elif menu_number == \"4\":\n",
    "    print()\n",
    "    print(\"# 학생 삭제\")\n",
    "    delname = input(\"삭제할 이름을 입력하세요. : \")\n",
    "    for student in students:\n",
    "        if student['이름'] == delname:\n",
    "            students.remove(student)\n",
    "              \n",
    "else:\n",
    "    print(\"에러) 지원하지 않는 메뉴입니다.\")\n",
    "\n",
    "json_string = json.dumps(students, ensure_ascii=False)\n",
    "with open(\"students.json\", \"wt\", encoding=\"utf8\") as f:\n",
    "    f.write(json_string)\n",
    "print()\n",
    "print(\"저장했습니다.\")"
   ]
  },
  {
   "cell_type": "code",
   "execution_count": 10,
   "metadata": {
    "collapsed": false
   },
   "outputs": [
    {
     "data": {
      "text/plain": [
       "'30'"
      ]
     },
     "execution_count": 10,
     "metadata": {},
     "output_type": "execute_result"
    }
   ],
   "source": [
    "student['국어']"
   ]
  },
  {
   "cell_type": "markdown",
   "metadata": {},
   "source": [
    "# 번호 맞추기 스무고개"
   ]
  },
  {
   "cell_type": "code",
   "execution_count": 7,
   "metadata": {
    "collapsed": false
   },
   "outputs": [
    {
     "name": "stdout",
     "output_type": "stream",
     "text": [
      "1번째 기회 : 55\n",
      "큰 수로 해봐!\n",
      "2번째 기회 : 80\n",
      "작은 수로 해봐!\n",
      "3번째 기회 : 75\n",
      "작은 수로 해봐!\n",
      "4번째 기회 : 60\n",
      "큰 수로 해봐!\n",
      "5번째 기회 : 63\n",
      "큰 수로 해봐!\n",
      "6번째 기회 : 38\n",
      "큰 수로 해봐!\n",
      "7번째 기회 : 70\n",
      "큰 수로 해봐!\n",
      "8번째 기회 : 73\n",
      "큰 수로 해봐!\n",
      "9번째 기회 : 74\n",
      "딩동댕! 정답\n"
     ]
    }
   ],
   "source": [
    "import random\n",
    "\n",
    "number = random. randint(1,100)\n",
    "\n",
    "for i in range(1, 21):\n",
    "    answer = int(input(\"{}번째 기회 : \".format(i)))\n",
    "    \n",
    "    if answer < number:\n",
    "        print(\"큰 수로 해봐!\")\n",
    "    elif answer > number:\n",
    "        print(\"작은 수로 해봐!\")\n",
    "    else:\n",
    "        print(\"딩동댕! 정답\")\n",
    "        break"
   ]
  },
  {
   "cell_type": "code",
   "execution_count": null,
   "metadata": {
    "collapsed": true
   },
   "outputs": [],
   "source": []
  }
 ],
 "metadata": {
  "kernelspec": {
   "display_name": "Python 3",
   "language": "python",
   "name": "python3"
  },
  "language_info": {
   "codemirror_mode": {
    "name": "ipython",
    "version": 3
   },
   "file_extension": ".py",
   "mimetype": "text/x-python",
   "name": "python",
   "nbconvert_exporter": "python",
   "pygments_lexer": "ipython3",
   "version": "3.5.1"
  }
 },
 "nbformat": 4,
 "nbformat_minor": 0
}
