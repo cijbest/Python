{
 "cells": [
  {
   "cell_type": "code",
   "execution_count": 1,
   "metadata": {
    "collapsed": true
   },
   "outputs": [],
   "source": [
    "import json\n",
    "import re\n",
    "import requests\n",
    "\n",
    "def get_best_comment_list(webtoon_id, ep_id):\n",
    "    referer_url = 'http://comic.naver.com/webtoon/weekday.nhn'\n",
    "\n",
    "    url = 'http://apis.naver.com/commentBox/cbox/web_naver_list_jsonp.json'\n",
    "    params = {\n",
    "        'ticket': 'comic',\n",
    "        'templateId': 'webtoon',\n",
    "        'pool': 'cbox3',\n",
    "        '_callback': '_',\n",
    "        'lang': 'ko',\n",
    "        'country': 'KR',\n",
    "        'objectId': '{}_{}'.format(webtoon_id, ep_id),\n",
    "        'pageSize': 10,\n",
    "        'indexSize': 10,\n",
    "        'page': 1,\n",
    "        'sort': 'best',\n",
    "        'categoryId': '',\n",
    "        'listType': 'OBJECT',\n",
    "    }\n",
    "\n",
    "    jsonp_string = requests.get(url, params=params, headers={'Referer': referer_url}).text\n",
    "    json_string = jsonp_string.replace('_(', '').replace(');', '')\n",
    "    \n",
    "    resp = json.loads(json_string)\n",
    "    return resp['result']['commentList']"
   ]
  },
  {
   "cell_type": "code",
   "execution_count": 4,
   "metadata": {
    "collapsed": false
   },
   "outputs": [
    {
     "name": "stdout",
     "output_type": "stream",
     "text": [
      "1 신혜**** (+40570, -209)\n",
      "아 미친 유바비 진짜 ㅜㅜㅜ 유미 커버 쳐주는거 봐라 진짜 사랑해요 유바비 ㅜㅜ\n",
      "(at 2017-07-25T23:23:11+0900)\n",
      "\n",
      "2 또똔**** (+36755, -796)\n",
      "이다의 새로운 짝궁이 나타났다!\n",
      "(at 2017-07-25T23:22:37+0900)\n",
      "\n",
      "3 노주**** (+21782, -123)\n",
      "작가님 우리가 썸네잉 바꿔달라고 하니까 진짜 바꿔주셨어 작가님 썸네일 정말 예뻐요 !!\n",
      "(at 2017-07-25T23:22:31+0900)\n",
      "\n",
      "4 김수**** (+21556, -110)\n",
      "아 유바비 큰그림 너무 좋다\n",
      "(at 2017-07-25T23:22:40+0900)\n",
      "\n",
      "5 sk**** (+19444, -94)\n",
      "와.....진짜 .... 유미 엄청 좋아하니봐....\n",
      "(at 2017-07-25T23:22:39+0900)\n",
      "\n",
      "6 옹**** (+19070, -118)\n",
      "그렇게 한별이는 무덤까지 바비와의 우정을 지켰다...\n",
      "(at 2017-07-25T23:26:45+0900)\n",
      "\n",
      "7 단테**** (+16007, -100)\n",
      "머리좋으다 쏘스윗한데 머리좋고 와ㅜ\n",
      "(at 2017-07-25T23:23:24+0900)\n",
      "\n",
      "8 Ha**** (+13418, -56)\n",
      "와... 소문 없애려고 일부러ㅋㅋㅋㅋ\n",
      "소문은 더 자극적인 소문으로 없애야하구나..맞불\n",
      "(at 2017-07-25T23:25:09+0900)\n",
      "\n",
      "9 감솨**** (+12585, -110)\n",
      "바비 네잎클로버 저기붙엇네\n",
      "(at 2017-07-25T23:27:32+0900)\n",
      "\n",
      "10 ㅊㅇ**** (+12267, -105)\n",
      "뭔 세포도 빡치게샹김\n",
      "(at 2017-07-25T23:22:36+0900)\n",
      "\n"
     ]
    }
   ],
   "source": [
    "# 유미의 세포들, 명탐정 유바비\n",
    "#http://comic.naver.com/webtoon/detail.nhn?titleId=651673&no=234&weekday=wed\n",
    "\n",
    "best_comment_list = get_best_comment_list('651673', '234')\n",
    "\n",
    "for idx, comment in enumerate(best_comment_list, 1):\n",
    "    if comment['best']:\n",
    "        print(idx, '''{maskedUserName} (+{sympathyCount}, -{antipathyCount})\n",
    "{contents}\n",
    "(at {modTime})\n",
    "'''.format(**comment))"
   ]
  },
  {
   "cell_type": "markdown",
   "metadata": {},
   "source": [
    "# 한 에피소드의 이미지를 하나씩 다 받아오기"
   ]
  },
  {
   "cell_type": "code",
   "execution_count": 5,
   "metadata": {
    "collapsed": false
   },
   "outputs": [
    {
     "name": "stdout",
     "output_type": "stream",
     "text": [
      "http://imgcomic.naver.net/webtoon/651673/234/20170725180024_9422c14c0517555856aa7ddada1bba97_IMAG01_1.jpg\n",
      "http://imgcomic.naver.net/webtoon/651673/234/20170725180024_9422c14c0517555856aa7ddada1bba97_IMAG01_2.jpg\n",
      "http://imgcomic.naver.net/webtoon/651673/234/20170725180024_9422c14c0517555856aa7ddada1bba97_IMAG01_3.jpg\n",
      "http://imgcomic.naver.net/webtoon/651673/234/20170725180024_9422c14c0517555856aa7ddada1bba97_IMAG01_4.jpg\n",
      "http://imgcomic.naver.net/webtoon/651673/234/20170725180024_9422c14c0517555856aa7ddada1bba97_IMAG01_5.jpg\n",
      "http://imgcomic.naver.net/webtoon/651673/234/20170725180024_9422c14c0517555856aa7ddada1bba97_IMAG01_6.jpg\n",
      "http://imgcomic.naver.net/webtoon/651673/234/20170725180024_9422c14c0517555856aa7ddada1bba97_IMAG01_7.jpg\n",
      "http://imgcomic.naver.net/webtoon/651673/234/20170725180024_9422c14c0517555856aa7ddada1bba97_IMAG01_8.jpg\n",
      "http://imgcomic.naver.net/webtoon/651673/234/20170725180024_9422c14c0517555856aa7ddada1bba97_IMAG01_9.jpg\n",
      "http://imgcomic.naver.net/webtoon/651673/234/20170725180024_9422c14c0517555856aa7ddada1bba97_IMAG01_10.jpg\n",
      "http://imgcomic.naver.net/webtoon/651673/234/20170725180024_9422c14c0517555856aa7ddada1bba97_IMAG01_11.jpg\n",
      "http://imgcomic.naver.net/webtoon/651673/234/20170725180024_9422c14c0517555856aa7ddada1bba97_IMAG01_12.jpg\n",
      "http://imgcomic.naver.net/webtoon/651673/234/20170725180024_9422c14c0517555856aa7ddada1bba97_IMAG01_13.jpg\n",
      "http://imgcomic.naver.net/webtoon/651673/234/20170725180024_9422c14c0517555856aa7ddada1bba97_IMAG01_14.jpg\n"
     ]
    }
   ],
   "source": [
    "import os\n",
    "import requests\n",
    "from bs4 import BeautifulSoup\n",
    "\n",
    "ep_url = 'http://comic.naver.com/webtoon/detail.nhn?titleId=651673&no=234&weekday=wed'\n",
    "\n",
    "html = requests.get(ep_url).text\n",
    "soup = BeautifulSoup(html, 'html.parser')\n",
    "\n",
    "for tag in soup.select('.wt_viewer img'):\n",
    "    img_url = tag['src']\n",
    "    img_data = requests.get(img_url, headers={'Referer': ep_url}).content\n",
    "    img_name = os.path.basename(img_url)\n",
    "    print(img_url)\n",
    "    with open(img_name, 'wb') as f:\n",
    "        f.write(img_data)"
   ]
  },
  {
   "cell_type": "code",
   "execution_count": null,
   "metadata": {
    "collapsed": true
   },
   "outputs": [],
   "source": []
  }
 ],
 "metadata": {
  "kernelspec": {
   "display_name": "Python 3",
   "language": "python",
   "name": "python3"
  },
  "language_info": {
   "codemirror_mode": {
    "name": "ipython",
    "version": 3
   },
   "file_extension": ".py",
   "mimetype": "text/x-python",
   "name": "python",
   "nbconvert_exporter": "python",
   "pygments_lexer": "ipython3",
   "version": "3.5.1"
  }
 },
 "nbformat": 4,
 "nbformat_minor": 0
}
