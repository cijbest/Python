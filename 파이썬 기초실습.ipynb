{
 "cells": [
  {
   "cell_type": "code",
   "execution_count": 4,
   "metadata": {
    "collapsed": false
   },
   "outputs": [
    {
     "name": "stdout",
     "output_type": "stream",
     "text": [
      "철수야. 오랜만에 편지를 쓴다.\n",
      "보고싶다. 친구야. \n",
      "이번 주 일요일에서 보자. -너의 친구로부터.\n",
      "\n"
     ]
    }
   ],
   "source": [
    "message = \"\"\"{name}야. 오랜만에 편지를 쓴다.\n",
    "보고싶다. 친구야. \n",
    "{when}에서 보자. -너의 {friend}로부터.\n",
    "\"\"\".format(name=\"철수\", when='이번 주 일요일', friend='친구')\n",
    "print(message)"
   ]
  },
  {
   "cell_type": "code",
   "execution_count": 6,
   "metadata": {
    "collapsed": false
   },
   "outputs": [
    {
     "data": {
      "text/plain": [
       "'이름 = 공유, 영화 = 도깨비, 음식 = 떡'"
      ]
     },
     "execution_count": 6,
     "metadata": {},
     "output_type": "execute_result"
    }
   ],
   "source": [
    "'이름 = {}, 영화 = {}, 음식 = {}'.format(\"공유\", \"도깨비\", \"떡\")"
   ]
  },
  {
   "cell_type": "code",
   "execution_count": 7,
   "metadata": {
    "collapsed": false
   },
   "outputs": [
    {
     "data": {
      "text/plain": [
       "'이름 = 떡, 영화 = 도깨비, 음식 = 공유'"
      ]
     },
     "execution_count": 7,
     "metadata": {},
     "output_type": "execute_result"
    }
   ],
   "source": [
    "'이름 = {2}, 영화 = {1}, 음식 = {0}'.format(\"공유\", \"도깨비\", \"떡\")"
   ]
  },
  {
   "cell_type": "code",
   "execution_count": 8,
   "metadata": {
    "collapsed": false
   },
   "outputs": [
    {
     "data": {
      "text/plain": [
       "'이름 = 공유, 영화 = 도깨비, 음식 = 떡'"
      ]
     },
     "execution_count": 8,
     "metadata": {},
     "output_type": "execute_result"
    }
   ],
   "source": [
    "'이름 = {name}, 영화 = {movie}, 음식 = {food}'.format(name=\"공유\", movie=\"도깨비\", food=\"떡\")"
   ]
  },
  {
   "cell_type": "code",
   "execution_count": 9,
   "metadata": {
    "collapsed": true
   },
   "outputs": [],
   "source": [
    "내가좋아하는음식 = [\"떡볶이\", \"꼬마김밥\", \"쫄면\", \"맥주\"] #리스트"
   ]
  },
  {
   "cell_type": "code",
   "execution_count": 10,
   "metadata": {
    "collapsed": false
   },
   "outputs": [
    {
     "data": {
      "text/plain": [
       "False"
      ]
     },
     "execution_count": 10,
     "metadata": {},
     "output_type": "execute_result"
    }
   ],
   "source": [
    "\"소주\" in 내가좋아하는음식"
   ]
  },
  {
   "cell_type": "code",
   "execution_count": 14,
   "metadata": {
    "collapsed": false
   },
   "outputs": [
    {
     "ename": "SyntaxError",
     "evalue": "invalid syntax (<ipython-input-14-bc6048c9be7f>, line 1)",
     "output_type": "error",
     "traceback": [
      "\u001b[1;36m  File \u001b[1;32m\"<ipython-input-14-bc6048c9be7f>\"\u001b[1;36m, line \u001b[1;32m1\u001b[0m\n\u001b[1;33m    내가 좋아하는여행지=[\"부산\", \"발리\", \"하와이\", \"동경\", 10]\u001b[0m\n\u001b[1;37m             ^\u001b[0m\n\u001b[1;31mSyntaxError\u001b[0m\u001b[1;31m:\u001b[0m invalid syntax\n"
     ]
    }
   ],
   "source": [
    "내가 좋아하는여행지=[\"부산\", \"발리\", \"하와이\", \"동경\", 10]"
   ]
  },
  {
   "cell_type": "code",
   "execution_count": 15,
   "metadata": {
    "collapsed": false
   },
   "outputs": [
    {
     "data": {
      "text/plain": [
       "False"
      ]
     },
     "execution_count": 15,
     "metadata": {},
     "output_type": "execute_result"
    }
   ],
   "source": [
    "\"된장\" in \"간장 공장 간장장\""
   ]
  },
  {
   "cell_type": "code",
   "execution_count": 16,
   "metadata": {
    "collapsed": false
   },
   "outputs": [
    {
     "data": {
      "text/plain": [
       "'떡볶이'"
      ]
     },
     "execution_count": 16,
     "metadata": {},
     "output_type": "execute_result"
    }
   ],
   "source": [
    "내가좋아하는음식[0]"
   ]
  },
  {
   "cell_type": "code",
   "execution_count": 17,
   "metadata": {
    "collapsed": false
   },
   "outputs": [
    {
     "data": {
      "text/plain": [
       "'맥주'"
      ]
     },
     "execution_count": 17,
     "metadata": {},
     "output_type": "execute_result"
    }
   ],
   "source": [
    "#마지막\n",
    "last_index = len(내가좋아하는음식)-1\n",
    "내가좋아하는음식[last_index]"
   ]
  },
  {
   "cell_type": "code",
   "execution_count": 18,
   "metadata": {
    "collapsed": false,
    "scrolled": true
   },
   "outputs": [
    {
     "data": {
      "text/plain": [
       "'맥주'"
      ]
     },
     "execution_count": 18,
     "metadata": {},
     "output_type": "execute_result"
    }
   ],
   "source": [
    "내가좋아하는음식[-1]"
   ]
  },
  {
   "cell_type": "code",
   "execution_count": 19,
   "metadata": {
    "collapsed": true
   },
   "outputs": [],
   "source": [
    "내가좋아하는음식[-1]=\"와인\""
   ]
  },
  {
   "cell_type": "code",
   "execution_count": 20,
   "metadata": {
    "collapsed": false
   },
   "outputs": [
    {
     "data": {
      "text/plain": [
       "'와인'"
      ]
     },
     "execution_count": 20,
     "metadata": {},
     "output_type": "execute_result"
    }
   ],
   "source": [
    "내가좋아하는음식[-1]"
   ]
  },
  {
   "cell_type": "code",
   "execution_count": 21,
   "metadata": {
    "collapsed": false
   },
   "outputs": [
    {
     "data": {
      "text/plain": [
       "'국밥'"
      ]
     },
     "execution_count": 21,
     "metadata": {},
     "output_type": "execute_result"
    }
   ],
   "source": [
    "내가좋아하는음식=[\"김밥\",\"피자\",\"탕수육\",\"국밥\",\"햄버거\", \"샌드위치\"]\n",
    "\n",
    "import random\n",
    "random.choice(내가좋아하는음식)"
   ]
  },
  {
   "cell_type": "code",
   "execution_count": 23,
   "metadata": {
    "collapsed": false
   },
   "outputs": [],
   "source": [
    "내가좋아하는음료=(\"소주\",\"맥주\",\"막걸리\",\"스프라이트\") #튜플"
   ]
  },
  {
   "cell_type": "markdown",
   "metadata": {},
   "source": [
    "# swap"
   ]
  },
  {
   "cell_type": "code",
   "execution_count": 26,
   "metadata": {
    "collapsed": false
   },
   "outputs": [
    {
     "name": "stdout",
     "output_type": "stream",
     "text": [
      "2 1\n"
     ]
    }
   ],
   "source": [
    "a=1\n",
    "b=2\n",
    "(a,b) = (b,a)\n",
    "print (a,b)"
   ]
  },
  {
   "cell_type": "code",
   "execution_count": 29,
   "metadata": {
    "collapsed": true
   },
   "outputs": [],
   "source": [
    "내가좋아하는음식=[\"국수\",\"라면\", \"짬쫑\", \"울면\", \"비빔국수\",\"리면\",\"울면\"]"
   ]
  },
  {
   "cell_type": "code",
   "execution_count": 30,
   "metadata": {
    "collapsed": false
   },
   "outputs": [
    {
     "data": {
      "text/plain": [
       "'나는 7종류의 음식을 좋아해'"
      ]
     },
     "execution_count": 30,
     "metadata": {},
     "output_type": "execute_result"
    }
   ],
   "source": [
    "\"나는 {}종류의 음식을 좋아해\".format(len(내가좋아하는음식))"
   ]
  },
  {
   "cell_type": "code",
   "execution_count": 46,
   "metadata": {
    "collapsed": false
   },
   "outputs": [],
   "source": [
    "내가좋아하는음식_리스트=[\"국수\",\"라면\", \"짬쫑\", \"울면\", \"비빔국수\",\"리면\",\"울면\"]"
   ]
  },
  {
   "cell_type": "code",
   "execution_count": 48,
   "metadata": {
    "collapsed": false
   },
   "outputs": [
    {
     "data": {
      "text/plain": [
       "{'국수', '라면', '리면', '비빔국수', '울면', '짬쫑'}"
      ]
     },
     "execution_count": 48,
     "metadata": {},
     "output_type": "execute_result"
    }
   ],
   "source": [
    "set(내가좋아하는음식_리스트) #더 빠르게 집합화"
   ]
  },
  {
   "cell_type": "code",
   "execution_count": 40,
   "metadata": {
    "collapsed": false
   },
   "outputs": [
    {
     "data": {
      "text/plain": [
       "'나는 5종류의 음식을 좋아해'"
      ]
     },
     "execution_count": 40,
     "metadata": {},
     "output_type": "execute_result"
    }
   ],
   "source": [
    "내가좋아하는음식_집합={\"국수\",\"라면\", \"짬뽕\", \"울면\", \"비빔국수\",\"라면\",\"울면\"} #중복을 배제(집합)\n",
    "\"나는 {}종류의 음식을 좋아해\".format(len(내가좋아하는음식_집합))"
   ]
  },
  {
   "cell_type": "code",
   "execution_count": 43,
   "metadata": {
    "collapsed": false
   },
   "outputs": [
    {
     "data": {
      "text/plain": [
       "{'국수', '비빔국수'}"
      ]
     },
     "execution_count": 43,
     "metadata": {},
     "output_type": "execute_result"
    }
   ],
   "source": [
    " 내가좋아하는음식_집합 & {\"국수\",\"비빔국수\",\"돈까스\"} #교집합"
   ]
  },
  {
   "cell_type": "code",
   "execution_count": 42,
   "metadata": {
    "collapsed": false
   },
   "outputs": [
    {
     "data": {
      "text/plain": [
       "{'국수', '돈까스', '라면', '비빔국수', '울면', '짬뽕'}"
      ]
     },
     "execution_count": 42,
     "metadata": {},
     "output_type": "execute_result"
    }
   ],
   "source": [
    " 내가좋아하는음식_집합 | {\"국수\",\"비빔국수\",\"돈까스\"} #합집합"
   ]
  },
  {
   "cell_type": "code",
   "execution_count": 44,
   "metadata": {
    "collapsed": false
   },
   "outputs": [
    {
     "data": {
      "text/plain": [
       "{'라면', '울면', '짬뽕'}"
      ]
     },
     "execution_count": 44,
     "metadata": {},
     "output_type": "execute_result"
    }
   ],
   "source": [
    " 내가좋아하는음식_집합 - {\"국수\",\"비빔국수\",\"돈까스\"} #차집합"
   ]
  },
  {
   "cell_type": "markdown",
   "metadata": {},
   "source": [
    "# 사전(dict)"
   ]
  },
  {
   "cell_type": "code",
   "execution_count": 60,
   "metadata": {
    "collapsed": false
   },
   "outputs": [
    {
     "name": "stdout",
     "output_type": "stream",
     "text": [
      "국사 80\n",
      "국어 90\n",
      "수학 100\n",
      "영어 95\n"
     ]
    }
   ],
   "source": [
    "성적 = {\n",
    "    '국어' :90,\n",
    "    '영어' :95,\n",
    "    '수학' :100,\n",
    "    '국사' :80,\n",
    "}\n",
    "\n",
    "for name, score in 성적.items() : #사전일 때 -> 순서 상관없이 나옴\n",
    "    print(name, score)"
   ]
  },
  {
   "cell_type": "code",
   "execution_count": 51,
   "metadata": {
    "collapsed": false
   },
   "outputs": [
    {
     "data": {
      "text/plain": [
       "90"
      ]
     },
     "execution_count": 51,
     "metadata": {},
     "output_type": "execute_result"
    }
   ],
   "source": [
    "성적['국어']"
   ]
  },
  {
   "cell_type": "code",
   "execution_count": 52,
   "metadata": {
    "collapsed": false
   },
   "outputs": [
    {
     "ename": "KeyError",
     "evalue": "'세계사'",
     "output_type": "error",
     "traceback": [
      "\u001b[1;31m---------------------------------------------------------------------------\u001b[0m",
      "\u001b[1;31mKeyError\u001b[0m                                  Traceback (most recent call last)",
      "\u001b[1;32m<ipython-input-52-410c9879f2d4>\u001b[0m in \u001b[0;36m<module>\u001b[1;34m()\u001b[0m\n\u001b[1;32m----> 1\u001b[1;33m \u001b[0m성적\u001b[0m\u001b[1;33m[\u001b[0m\u001b[1;34m'세계사'\u001b[0m\u001b[1;33m]\u001b[0m\u001b[1;33m\u001b[0m\u001b[0m\n\u001b[0m",
      "\u001b[1;31mKeyError\u001b[0m: '세계사'"
     ]
    }
   ],
   "source": [
    "성적['세계사']"
   ]
  },
  {
   "cell_type": "markdown",
   "metadata": {},
   "source": [
    "# 순회"
   ]
  },
  {
   "cell_type": "code",
   "execution_count": 53,
   "metadata": {
    "collapsed": true
   },
   "outputs": [],
   "source": [
    "내가좋아하는음식_리스트=[\"국수\",\"라면\", \"짬쫑\", \"울면\", \"비빔국수\",\"리면\",\"울면\"]"
   ]
  },
  {
   "cell_type": "code",
   "execution_count": 61,
   "metadata": {
    "collapsed": false
   },
   "outputs": [
    {
     "name": "stdout",
     "output_type": "stream",
     "text": [
      "국수\n",
      "라면\n",
      "짬쫑\n",
      "울면\n",
      "비빔국수\n",
      "리면\n",
      "울면\n"
     ]
    }
   ],
   "source": [
    "for 음식이름 in 내가좋아하는음식_리스트 : #리스트나 사전이 와도 상관없음\n",
    "    print(음식이름)"
   ]
  },
  {
   "cell_type": "markdown",
   "metadata": {},
   "source": [
    "# 번외 : enumerate"
   ]
  },
  {
   "cell_type": "code",
   "execution_count": 62,
   "metadata": {
    "collapsed": false
   },
   "outputs": [
    {
     "name": "stdout",
     "output_type": "stream",
     "text": [
      "1 국수\n",
      "2 라면\n",
      "3 짬쫑\n",
      "4 울면\n",
      "5 비빔국수\n",
      "6 리면\n",
      "7 울면\n"
     ]
    }
   ],
   "source": [
    "내가좋아하는음식_리스트=[\"국수\",\"라면\", \"짬쫑\", \"울면\", \"비빔국수\",\"리면\",\"울면\"]\n",
    "\n",
    "i=1\n",
    "for name in 내가좋아하는음식_리스트:\n",
    "    print(i, name)\n",
    "    i+=1"
   ]
  },
  {
   "cell_type": "code",
   "execution_count": 63,
   "metadata": {
    "collapsed": false
   },
   "outputs": [
    {
     "name": "stdout",
     "output_type": "stream",
     "text": [
      "100 국수\n",
      "101 라면\n",
      "102 짬쫑\n",
      "103 울면\n",
      "104 비빔국수\n",
      "105 리면\n",
      "106 울면\n"
     ]
    }
   ],
   "source": [
    "for i, name in enumerate(내가좋아하는음식_리스트,100): #값을 증가시키면서 출력하고자 할 때\n",
    "    print(i, name)"
   ]
  },
  {
   "cell_type": "markdown",
   "metadata": {},
   "source": [
    "# 슬라이싱 문법"
   ]
  },
  {
   "cell_type": "code",
   "execution_count": 64,
   "metadata": {
    "collapsed": false
   },
   "outputs": [
    {
     "data": {
      "text/plain": [
       "'가나다라마바사아자차카타파하'"
      ]
     },
     "execution_count": 64,
     "metadata": {},
     "output_type": "execute_result"
    }
   ],
   "source": [
    "\"가나다라마바사아자차카타파하\""
   ]
  },
  {
   "cell_type": "code",
   "execution_count": 71,
   "metadata": {
    "collapsed": false
   },
   "outputs": [
    {
     "data": {
      "text/plain": [
       "'나다라마바사아자차카타파하'"
      ]
     },
     "execution_count": 71,
     "metadata": {},
     "output_type": "execute_result"
    }
   ],
   "source": [
    "\"가나다라마바사아자차카타파하\"[1:] #인덱스 1부터 끝까지"
   ]
  },
  {
   "cell_type": "code",
   "execution_count": 66,
   "metadata": {
    "collapsed": false
   },
   "outputs": [
    {
     "data": {
      "text/plain": [
       "'나'"
      ]
     },
     "execution_count": 66,
     "metadata": {},
     "output_type": "execute_result"
    }
   ],
   "source": [
    "\"가나다라마바사아자차카타파하\"[1]"
   ]
  },
  {
   "cell_type": "code",
   "execution_count": 67,
   "metadata": {
    "collapsed": false
   },
   "outputs": [
    {
     "data": {
      "text/plain": [
       "'하'"
      ]
     },
     "execution_count": 67,
     "metadata": {},
     "output_type": "execute_result"
    }
   ],
   "source": [
    "\"가나다라마바사아자차카타파하\"[-1]"
   ]
  },
  {
   "cell_type": "code",
   "execution_count": 69,
   "metadata": {
    "collapsed": false
   },
   "outputs": [
    {
     "data": {
      "text/plain": [
       "'가나다라마바사아자차카타파'"
      ]
     },
     "execution_count": 69,
     "metadata": {},
     "output_type": "execute_result"
    }
   ],
   "source": [
    "\"가나다라마바사아자차카타파하\"[:-1] #처음부터 끝에 제외하고까지"
   ]
  },
  {
   "cell_type": "code",
   "execution_count": 73,
   "metadata": {
    "collapsed": false
   },
   "outputs": [
    {
     "data": {
      "text/plain": [
       "'나다'"
      ]
     },
     "execution_count": 73,
     "metadata": {},
     "output_type": "execute_result"
    }
   ],
   "source": [
    "\"가나다라마바사아자차카타파하\"[1:3] #(끝에 있는 인덱스는 제외)"
   ]
  },
  {
   "cell_type": "code",
   "execution_count": 77,
   "metadata": {
    "collapsed": false
   },
   "outputs": [
    {
     "data": {
      "text/plain": [
       "'나라바아차타'"
      ]
     },
     "execution_count": 77,
     "metadata": {},
     "output_type": "execute_result"
    }
   ],
   "source": [
    "\"가나다라마바사아자차카타파하\"[1:-1:2] #인덱스1부터 끝까지 두개씩 증가시킴"
   ]
  },
  {
   "cell_type": "code",
   "execution_count": 75,
   "metadata": {
    "collapsed": false
   },
   "outputs": [
    {
     "data": {
      "text/plain": [
       "'하파타카차자아사바마라다나가'"
      ]
     },
     "execution_count": 75,
     "metadata": {},
     "output_type": "execute_result"
    }
   ],
   "source": [
    "\"가나다라마바사아자차카타파하\"[::-1]  #reverse"
   ]
  },
  {
   "cell_type": "markdown",
   "metadata": {},
   "source": [
    "# 주석"
   ]
  },
  {
   "cell_type": "code",
   "execution_count": 78,
   "metadata": {
    "collapsed": true
   },
   "outputs": [],
   "source": [
    "#안녕, 나는 주석이야."
   ]
  },
  {
   "cell_type": "code",
   "execution_count": 79,
   "metadata": {
    "collapsed": false
   },
   "outputs": [
    {
     "data": {
      "text/plain": [
       "'안녕 나는 주석이야'"
      ]
     },
     "execution_count": 79,
     "metadata": {},
     "output_type": "execute_result"
    }
   ],
   "source": [
    "\"안녕 나는 주석이야\""
   ]
  },
  {
   "cell_type": "code",
   "execution_count": 82,
   "metadata": {
    "collapsed": false
   },
   "outputs": [],
   "source": [
    "'''\n",
    "안녕. 아래 함수는 인자 2개를 받아서 더한 값을 리턴해줘야만 해.\n",
    "두 인자는 항상 양수를 입력받고, 양수가 아니면 ValueError 예외를 발생해\n",
    "'''\n",
    "def mysum(x,y):\n",
    "    return x+y"
   ]
  },
  {
   "cell_type": "code",
   "execution_count": 84,
   "metadata": {
    "collapsed": true
   },
   "outputs": [],
   "source": [
    "mydict = {\n",
    "    'a': 1,\n",
    "    'b': 2,\n",
    "    #'c': 3,\n",
    "    #'d': 4,\n",
    "}"
   ]
  },
  {
   "cell_type": "code",
   "execution_count": 83,
   "metadata": {
    "collapsed": false
   },
   "outputs": [
    {
     "data": {
      "text/plain": [
       "\"\\nmydict = {\\n    'a':1,\\n    'b':2,\\n    'c':3,\\n    'd':4,\\n}\\n\""
      ]
     },
     "execution_count": 83,
     "metadata": {},
     "output_type": "execute_result"
    }
   ],
   "source": [
    "'''\n",
    "mydict = {\n",
    "    'a':1,\n",
    "    'b':2,\n",
    "    'c':3,\n",
    "    'd':4,\n",
    "}\n",
    "'''"
   ]
  },
  {
   "cell_type": "markdown",
   "metadata": {},
   "source": [
    "# 반복문\n",
    "\n",
    "    # c언어에서의 루프\n",
    "    for(int i =0; i<10; i++){\n",
    "      print(\"%d\")\n",
    "    }"
   ]
  },
  {
   "cell_type": "code",
   "execution_count": 97,
   "metadata": {
    "collapsed": false
   },
   "outputs": [
    {
     "name": "stdout",
     "output_type": "stream",
     "text": [
      "0\n",
      "1\n",
      "2\n",
      "3\n",
      "4\n",
      "5\n",
      "6\n",
      "7\n",
      "8\n",
      "9\n"
     ]
    }
   ],
   "source": [
    "for i in range(10):\n",
    "    print(i)"
   ]
  },
  {
   "cell_type": "code",
   "execution_count": 96,
   "metadata": {
    "collapsed": false
   },
   "outputs": [
    {
     "name": "stdout",
     "output_type": "stream",
     "text": [
      "H\n",
      "e\n",
      "l\n",
      "l\n",
      "o\n",
      ",\n",
      " \n",
      "W\n",
      "o\n",
      "r\n",
      "l\n",
      "d\n"
     ]
    }
   ],
   "source": [
    "for i in \"Hello, World\":\n",
    "    print (i)"
   ]
  },
  {
   "cell_type": "code",
   "execution_count": 88,
   "metadata": {
    "collapsed": false
   },
   "outputs": [
    {
     "name": "stdout",
     "output_type": "stream",
     "text": [
      "h\n",
      "e\n",
      "l\n",
      "l\n",
      "o\n"
     ]
    }
   ],
   "source": [
    "for ch in [\"h\",\"e\",\"l\",\"l\",\"o\"]:\n",
    "    print (ch)"
   ]
  },
  {
   "cell_type": "code",
   "execution_count": 91,
   "metadata": {
    "collapsed": false
   },
   "outputs": [
    {
     "name": "stdout",
     "output_type": "stream",
     "text": [
      "### 2단 ###\n",
      "2 * 1 = 2\n",
      "2 * 2 = 4\n",
      "2 * 3 = 6\n",
      "2 * 4 = 8\n",
      "2 * 5 = 10\n",
      "2 * 6 = 12\n"
     ]
    }
   ],
   "source": [
    "number = 2\n",
    "\n",
    "print('### {}단 ###'.format(number))\n",
    "for i in range(1, 10): #1이상 10미만의 수\n",
    "    print('{} * {} = {}'.format(number, i, number*i))\n",
    "    if i>5:\n",
    "        break"
   ]
  },
  {
   "cell_type": "code",
   "execution_count": 95,
   "metadata": {
    "collapsed": false
   },
   "outputs": [
    {
     "name": "stdout",
     "output_type": "stream",
     "text": [
      "### 2단 ###\n",
      "2 * 1 = 2\n",
      "2 * 2 = 4\n",
      "2 * 3 = 6\n",
      "2 * 4 = 8\n",
      "2 * 5 = 10\n",
      "2 * 6 = 12\n",
      "2 * 7 = 14\n",
      "2 * 8 = 16\n",
      "2 * 9 = 18\n",
      "### 3단 ###\n",
      "3 * 1 = 3\n",
      "3 * 2 = 6\n",
      "3 * 3 = 9\n",
      "3 * 4 = 12\n",
      "3 * 5 = 15\n",
      "3 * 6 = 18\n",
      "3 * 7 = 21\n",
      "3 * 8 = 24\n",
      "3 * 9 = 27\n",
      "### 4단 ###\n",
      "4 * 1 = 4\n",
      "4 * 2 = 8\n",
      "4 * 3 = 12\n",
      "4 * 4 = 16\n",
      "4 * 5 = 20\n",
      "4 * 6 = 24\n",
      "4 * 7 = 28\n",
      "4 * 8 = 32\n",
      "4 * 9 = 36\n",
      "### 5단 ###\n",
      "5 * 1 = 5\n",
      "5 * 2 = 10\n",
      "5 * 3 = 15\n",
      "5 * 4 = 20\n",
      "5 * 5 = 25\n",
      "5 * 6 = 30\n",
      "5 * 7 = 35\n",
      "5 * 8 = 40\n",
      "5 * 9 = 45\n",
      "### 6단 ###\n",
      "6 * 1 = 6\n",
      "6 * 2 = 12\n",
      "6 * 3 = 18\n",
      "6 * 4 = 24\n",
      "6 * 5 = 30\n",
      "6 * 6 = 36\n",
      "6 * 7 = 42\n",
      "6 * 8 = 48\n",
      "6 * 9 = 54\n",
      "### 7단 ###\n",
      "7 * 1 = 7\n",
      "7 * 2 = 14\n",
      "7 * 3 = 21\n",
      "7 * 4 = 28\n",
      "7 * 5 = 35\n",
      "7 * 6 = 42\n",
      "7 * 7 = 49\n",
      "7 * 8 = 56\n",
      "7 * 9 = 63\n",
      "### 8단 ###\n",
      "8 * 1 = 8\n",
      "8 * 2 = 16\n",
      "8 * 3 = 24\n",
      "8 * 4 = 32\n",
      "8 * 5 = 40\n",
      "8 * 6 = 48\n",
      "8 * 7 = 56\n",
      "8 * 8 = 64\n",
      "8 * 9 = 72\n",
      "### 9단 ###\n",
      "9 * 1 = 9\n",
      "9 * 2 = 18\n",
      "9 * 3 = 27\n",
      "9 * 4 = 36\n",
      "9 * 5 = 45\n",
      "9 * 6 = 54\n",
      "9 * 7 = 63\n",
      "9 * 8 = 72\n",
      "9 * 9 = 81\n"
     ]
    }
   ],
   "source": [
    "#중첩 반복문\n",
    "\n",
    "number = 2\n",
    "\n",
    "for number in range(2, 10): #1이상 10미만의 수\n",
    "    print('### {}단 ###'.format(number))\n",
    "    for i in range(1,10): #1이상 10미만의 수 범위, 1씩 증가\n",
    "        print('{} * {} = {}'.format(number, i, number*i))\n",
    "        \n"
   ]
  },
  {
   "cell_type": "markdown",
   "metadata": {},
   "source": [
    "# 함수"
   ]
  },
  {
   "cell_type": "code",
   "execution_count": 100,
   "metadata": {
    "collapsed": true
   },
   "outputs": [],
   "source": [
    "def print_gugudan(number):\n",
    "    print('### {}단 ###'.format(number))\n",
    "    for i in range(1,10): #1이상 10미만의 수 범위, 1씩 증가\n",
    "        print('{} * {} = {}'.format(number, i, number*i))"
   ]
  },
  {
   "cell_type": "code",
   "execution_count": 102,
   "metadata": {
    "collapsed": false,
    "scrolled": true
   },
   "outputs": [
    {
     "name": "stdout",
     "output_type": "stream",
     "text": [
      "### 2단 ###\n",
      "2 * 1 = 2\n",
      "2 * 2 = 4\n",
      "2 * 3 = 6\n",
      "2 * 4 = 8\n",
      "2 * 5 = 10\n",
      "2 * 6 = 12\n",
      "2 * 7 = 14\n",
      "2 * 8 = 16\n",
      "2 * 9 = 18\n",
      "### 3단 ###\n",
      "3 * 1 = 3\n",
      "3 * 2 = 6\n",
      "3 * 3 = 9\n",
      "3 * 4 = 12\n",
      "3 * 5 = 15\n",
      "3 * 6 = 18\n",
      "3 * 7 = 21\n",
      "3 * 8 = 24\n",
      "3 * 9 = 27\n",
      "### 4단 ###\n",
      "4 * 1 = 4\n",
      "4 * 2 = 8\n",
      "4 * 3 = 12\n",
      "4 * 4 = 16\n",
      "4 * 5 = 20\n",
      "4 * 6 = 24\n",
      "4 * 7 = 28\n",
      "4 * 8 = 32\n",
      "4 * 9 = 36\n"
     ]
    }
   ],
   "source": [
    "print_gugudan(2)\n",
    "print_gugudan(3)\n",
    "print_gugudan(4)"
   ]
  },
  {
   "cell_type": "markdown",
   "metadata": {},
   "source": [
    "# 타언어에서의 \n",
    "\n",
    "    /*c언어*/\n",
    "    int sum(int x, int y){\n",
    "        return x+y;\n",
    "    }\n"
   ]
  },
  {
   "cell_type": "markdown",
   "metadata": {},
   "source": [
    "    /*javascript*/\n",
    "    int mysum(int x, int y){\n",
    "        return x+y;\n",
    "    }\n",
    "    \n",
    "    /*javascript*/\n",
    "    function mysum(x,y){\n",
    "        return x+y;\n",
    "    }\n",
    "    \n",
    "    #python\n",
    "    def mywum(x, y):\n",
    "        return x+y;\n",
    "\n",
    "    #Ruby\n",
    "    def sum(x, y)\n",
    "        x+y\n",
    "    end"
   ]
  },
  {
   "cell_type": "markdown",
   "metadata": {},
   "source": [
    "# 반환값이 없는 함수\n"
   ]
  },
  {
   "cell_type": "code",
   "execution_count": 105,
   "metadata": {
    "collapsed": false
   },
   "outputs": [
    {
     "data": {
      "text/plain": [
       "'java\\nvoid \\n'"
      ]
     },
     "execution_count": 105,
     "metadata": {},
     "output_type": "execute_result"
    }
   ],
   "source": [
    "'''java\n",
    "void \n",
    "'''"
   ]
  },
  {
   "cell_type": "code",
   "execution_count": 107,
   "metadata": {
    "collapsed": false
   },
   "outputs": [
    {
     "name": "stdout",
     "output_type": "stream",
     "text": [
      "hello world\n",
      "None\n"
     ]
    }
   ],
   "source": [
    "def print_hello():\n",
    "    print(\"hello world\") #파이썬은 리턴값이 없으면 자동으로 none을 리턴함\n",
    "    \n",
    "print(print_hello())"
   ]
  },
  {
   "cell_type": "markdown",
   "metadata": {},
   "source": [
    "# 실습"
   ]
  },
  {
   "cell_type": "code",
   "execution_count": 125,
   "metadata": {
    "collapsed": false
   },
   "outputs": [
    {
     "name": "stdout",
     "output_type": "stream",
     "text": [
      "*\n",
      "**\n",
      "***\n",
      "****\n",
      "*****\n",
      "******\n",
      "*******\n",
      "********\n",
      "*********\n"
     ]
    }
   ],
   "source": [
    "number = 10\n",
    "\n",
    "for i in range(1,number):\n",
    "    print('*'*i)"
   ]
  },
  {
   "cell_type": "code",
   "execution_count": 129,
   "metadata": {
    "collapsed": false
   },
   "outputs": [
    {
     "name": "stdout",
     "output_type": "stream",
     "text": [
      "         *\n",
      "        **\n",
      "       ***\n",
      "      ****\n",
      "     *****\n",
      "    ******\n",
      "   *******\n",
      "  ********\n",
      " *********\n"
     ]
    }
   ],
   "source": [
    "number = 10\n",
    "\n",
    "for i in range(1,number):\n",
    "    #print(' '*(number-i)+'*'*i)\n",
    "    print(' '*(number-i), end='') #end='' 하면 줄 바꿈이 일어나지 않음 -> '\\n'하면 한 줄 띄어짐\n",
    "    print('*'*i)"
   ]
  },
  {
   "cell_type": "code",
   "execution_count": 132,
   "metadata": {
    "collapsed": false
   },
   "outputs": [],
   "source": [
    "def print_star_rectangle(number, print_ch, space_ch):\n",
    "    for i in range(1,number+1):\n",
    "        print(space_ch*(number-i), end='')\n",
    "        print(print_ch*i)"
   ]
  },
  {
   "cell_type": "code",
   "execution_count": 133,
   "metadata": {
    "collapsed": false
   },
   "outputs": [
    {
     "name": "stdout",
     "output_type": "stream",
     "text": [
      "+++++++++A\n",
      "++++++++AA\n",
      "+++++++AAA\n",
      "++++++AAAA\n",
      "+++++AAAAA\n",
      "++++AAAAAA\n",
      "+++AAAAAAA\n",
      "++AAAAAAAA\n",
      "+AAAAAAAAA\n",
      "AAAAAAAAAA\n"
     ]
    }
   ],
   "source": [
    "print_star_rectangle(10, 'A', '+')"
   ]
  },
  {
   "cell_type": "markdown",
   "metadata": {},
   "source": [
    "## 위치에 기반한 인자, 이름에 기반한 인자"
   ]
  },
  {
   "cell_type": "code",
   "execution_count": 134,
   "metadata": {
    "collapsed": true
   },
   "outputs": [],
   "source": [
    "def mysum(x,y,z):\n",
    "    return x+y+z"
   ]
  },
  {
   "cell_type": "code",
   "execution_count": 136,
   "metadata": {
    "collapsed": false
   },
   "outputs": [
    {
     "data": {
      "text/plain": [
       "6"
      ]
     },
     "execution_count": 136,
     "metadata": {},
     "output_type": "execute_result"
    }
   ],
   "source": [
    "mysum(1,2,3)"
   ]
  },
  {
   "cell_type": "code",
   "execution_count": 137,
   "metadata": {
    "collapsed": false
   },
   "outputs": [
    {
     "data": {
      "text/plain": [
       "6"
      ]
     },
     "execution_count": 137,
     "metadata": {},
     "output_type": "execute_result"
    }
   ],
   "source": [
    "mysum(x=1, y=2, z=3)"
   ]
  },
  {
   "cell_type": "code",
   "execution_count": 139,
   "metadata": {
    "collapsed": false
   },
   "outputs": [
    {
     "data": {
      "text/plain": [
       "6"
      ]
     },
     "execution_count": 139,
     "metadata": {},
     "output_type": "execute_result"
    }
   ],
   "source": [
    "mysum(x=3, y=2, z=1) #이름에 기반한 인자"
   ]
  },
  {
   "cell_type": "code",
   "execution_count": 143,
   "metadata": {
    "collapsed": false
   },
   "outputs": [
    {
     "ename": "SyntaxError",
     "evalue": "positional argument follows keyword argument (<ipython-input-143-62674a4b2395>, line 1)",
     "output_type": "error",
     "traceback": [
      "\u001b[1;36m  File \u001b[1;32m\"<ipython-input-143-62674a4b2395>\"\u001b[1;36m, line \u001b[1;32m1\u001b[0m\n\u001b[1;33m    mysum(z=1, 2, 3) #위치인자는 키워드인자보다 무조건 선행되어야 합니다.\u001b[0m\n\u001b[1;37m              ^\u001b[0m\n\u001b[1;31mSyntaxError\u001b[0m\u001b[1;31m:\u001b[0m positional argument follows keyword argument\n"
     ]
    }
   ],
   "source": [
    "mysum(z=1, 2, 3) #위치인자는 키워드인자보다 무조건 선행되어야 합니다."
   ]
  },
  {
   "cell_type": "code",
   "execution_count": 147,
   "metadata": {
    "collapsed": false
   },
   "outputs": [
    {
     "ename": "TypeError",
     "evalue": "mysum() got an unexpected keyword argument 'a'",
     "output_type": "error",
     "traceback": [
      "\u001b[1;31m---------------------------------------------------------------------------\u001b[0m",
      "\u001b[1;31mTypeError\u001b[0m                                 Traceback (most recent call last)",
      "\u001b[1;32m<ipython-input-147-10b739c80738>\u001b[0m in \u001b[0;36m<module>\u001b[1;34m()\u001b[0m\n\u001b[1;32m----> 1\u001b[1;33m \u001b[0mmysum\u001b[0m\u001b[1;33m(\u001b[0m\u001b[1;36m1\u001b[0m\u001b[1;33m,\u001b[0m\u001b[1;36m2\u001b[0m\u001b[1;33m,\u001b[0m\u001b[1;36m3\u001b[0m\u001b[1;33m,\u001b[0m \u001b[0ma\u001b[0m\u001b[1;33m=\u001b[0m\u001b[1;36m10\u001b[0m\u001b[1;33m)\u001b[0m\u001b[1;33m\u001b[0m\u001b[0m\n\u001b[0m",
      "\u001b[1;31mTypeError\u001b[0m: mysum() got an unexpected keyword argument 'a'"
     ]
    }
   ],
   "source": [
    "mysum(1,2,3, a=10)"
   ]
  },
  {
   "cell_type": "code",
   "execution_count": 156,
   "metadata": {
    "collapsed": true
   },
   "outputs": [],
   "source": [
    "def say_hello(name, age=10): #디폴트 인자\n",
    "    print(\"안녕. 나는{}야. {}살이지.\".format(name, age))"
   ]
  },
  {
   "cell_type": "code",
   "execution_count": 154,
   "metadata": {
    "collapsed": false
   },
   "outputs": [
    {
     "name": "stdout",
     "output_type": "stream",
     "text": [
      "안녕. 나는공유야. 37살이지.\n"
     ]
    }
   ],
   "source": [
    "say_hello(\"공유\", 37)"
   ]
  },
  {
   "cell_type": "code",
   "execution_count": 155,
   "metadata": {
    "collapsed": false
   },
   "outputs": [
    {
     "name": "stdout",
     "output_type": "stream",
     "text": [
      "안녕. 나는공유야. 10살이지.\n"
     ]
    }
   ],
   "source": [
    "say_hello(\"공유\")"
   ]
  },
  {
   "cell_type": "markdown",
   "metadata": {},
   "source": [
    "# 이메일 보내기"
   ]
  },
  {
   "cell_type": "code",
   "execution_count": 44,
   "metadata": {
    "collapsed": false
   },
   "outputs": [
    {
     "name": "stdout",
     "output_type": "stream",
     "text": [
      "Enter username : cijbest\n"
     ]
    }
   ],
   "source": [
    "username = input(\"Enter username : \")"
   ]
  },
  {
   "cell_type": "code",
   "execution_count": 45,
   "metadata": {
    "collapsed": false
   },
   "outputs": [
    {
     "name": "stdout",
     "output_type": "stream",
     "text": [
      "Enter password : ········\n"
     ]
    }
   ],
   "source": [
    "from getpass import getpass #패스워드 입력할 때 안 보이게 하는 방법\n",
    "password = getpass(\"Enter password : \")"
   ]
  },
  {
   "cell_type": "code",
   "execution_count": 46,
   "metadata": {
    "collapsed": false
   },
   "outputs": [],
   "source": [
    "import smtplib\n",
    "from email.message import EmailMessage\n",
    "\n",
    "naver_account_name = username.strip()  # FIXME: 여러분들의 이메일 주소로 변경\n",
    "naver_account_password = password.strip()\n",
    "\n",
    "message = EmailMessage()\n",
    "message['Subject'] = '네이버 웹툰 업데이트 현황'\n",
    "message['From'] = '{}@naver.com'.format(naver_account_name)\n",
    "message['To'] = 'skyelp@naver.com' # 수신자 이메일 다수 (구분자: 콤마)\n",
    "\n",
    "#Plain Text\n",
    "message.set_content('''이메일 내용\n",
    "안녕하세요. skyelp입니다.\n",
    "\n",
    "하이브 :http://comic.naver.com/webtoon/list.nhn?titleId=675331&weekday=tue\n",
    "3부75화 : http://comic.naver.com/webtoon/detail.nhn?titleId=651673&no=230&weekday=wed\n",
    "\n",
    "\n",
    "이 부분에는 이메일의 내용을 쓰실 수 있으며, HTML은 불가합니다. HTML을 쓰시면 태그가 그대로 노출됩니다.\n",
    "여러분의 파이썬/장고 페이스메이커가 되겠습니다.\n",
    "\n",
    "감사합니다.\n",
    "''')\n",
    "\n",
    "#HTML 메세지 추가\n",
    "message.add_alternative('''\n",
    "    <h1>Ask Django</h1>\n",
    "    \n",
    "    <p>안녕하세요. 반갑습니다. 오늘의 네이버 웹툰 업데이트 현황을 알려드립니다.</p>\n",
    "    \n",
    "    <ul>\n",
    "        <li><a href=\"http://comic.naver.com/webtoon/list.nhn?titleId=675331&weekday=tue\">하이브</a></li>\n",
    "        <li><a href=\"http://comic.naver.com/webtoon/detail.nhn?titleId=651673&no=230&weekday=wed\">3부75화</a></li>\n",
    "    </ul>\n",
    "    \n",
    "    <p>내일 다시 메일 드리겠습니다.</p>\n",
    "''', subtype='html')\n",
    "\n",
    "\n",
    "with smtplib.SMTP_SSL('smtp.naver.com', 465) as server: #SSL방식으로 서버 암호와 / (SMTP서버, 포트번호)\n",
    "    server.ehlo() #SMTP서버에 접속\n",
    "    server.login(naver_account_name, naver_account_password)\n",
    "    server.send_message(message)"
   ]
  },
  {
   "cell_type": "markdown",
   "metadata": {},
   "source": [
    "## SMS보내기"
   ]
  },
  {
   "cell_type": "code",
   "execution_count": 27,
   "metadata": {
    "collapsed": false
   },
   "outputs": [
    {
     "ename": "SyntaxError",
     "evalue": "invalid syntax (<ipython-input-27-d0f3ab085976>, line 5)",
     "output_type": "error",
     "traceback": [
      "\u001b[1;36m  File \u001b[1;32m\"<ipython-input-27-d0f3ab085976>\"\u001b[1;36m, line \u001b[1;32m5\u001b[0m\n\u001b[1;33m    url =\u001b[0m\n\u001b[1;37m          ^\u001b[0m\n\u001b[1;31mSyntaxError\u001b[0m\u001b[1;31m:\u001b[0m invalid syntax\n"
     ]
    }
   ],
   "source": [
    "#잔여건수 조회\n",
    "import requests\n",
    "from base64 import b64encode\n",
    "\n",
    "url = "
   ]
  },
  {
   "cell_type": "code",
   "execution_count": 39,
   "metadata": {
    "collapsed": true
   },
   "outputs": [],
   "source": [
    "user_id = 'allieussms'                       # FIXME\n",
    "secure = 'a7c90f72ea90f6d9442949057aa16c58'  # FIXME"
   ]
  },
  {
   "cell_type": "code",
   "execution_count": 40,
   "metadata": {
    "collapsed": false
   },
   "outputs": [
    {
     "name": "stdout",
     "output_type": "stream",
     "text": [
      "91\n"
     ]
    }
   ],
   "source": [
    "# 잔여건수 조회\n",
    "import requests\n",
    "from base64 import b64encode\n",
    "\n",
    "url = 'https://sslsms.cafe24.com/sms_remain.php'\n",
    "\n",
    "params = {\n",
    "    'user_id': b64encode(user_id.encode('euckr')),\n",
    "    'secure': b64encode(secure.encode('euckr')),\n",
    "    'mode': b64encode('1'.encode('euckr')),\n",
    "}\n",
    "\n",
    "response = requests.post(url, data=params)\n",
    "print(response.text)\n"
   ]
  },
  {
   "cell_type": "code",
   "execution_count": 42,
   "metadata": {
    "collapsed": false
   },
   "outputs": [
    {
     "name": "stdout",
     "output_type": "stream",
     "text": [
      "success,89\n"
     ]
    }
   ],
   "source": [
    "url = 'https://sslsms.cafe24.com/sms_sender.php'\n",
    "\n",
    "params = {\n",
    "    'user_id': user_id, 'secure': secure, 'mode': '1',\n",
    "    'sphone1': '010',\n",
    "    'sphone2': '9129',\n",
    "    'sphone3': '4131',\n",
    "    'rphone': '01077748341',  # FIXME : \n",
    "    'msg': '안녕하세요.',        # FIXME : \n",
    "}\n",
    "\n",
    "data = {}\n",
    "for key, value in params.items():\n",
    "    # 보낼 메세지. 최대 90바이트 # 송신자 앞 3자리\n",
    "    # 송신자 다음 4자리\n",
    "    # 송신자 마지막 4자리\n",
    "    # 수신자 전화번호 목록 : 구분자 콤마\n",
    "    if isinstance(value, str):\n",
    "        encoded = value.encode('euckr')[:90]\n",
    "        encoded = encoded.decode('euckr', 'ignore').encode('euckr')\n",
    "        value = b64encode(encoded)\n",
    "    data[key] = value\n",
    "\n",
    "print(requests.post(url, data=data).text)"
   ]
  }
 ],
 "metadata": {
  "kernelspec": {
   "display_name": "Python 3",
   "language": "python",
   "name": "python3"
  },
  "language_info": {
   "codemirror_mode": {
    "name": "ipython",
    "version": 3
   },
   "file_extension": ".py",
   "mimetype": "text/x-python",
   "name": "python",
   "nbconvert_exporter": "python",
   "pygments_lexer": "ipython3",
   "version": "3.5.1"
  }
 },
 "nbformat": 4,
 "nbformat_minor": 0
}
