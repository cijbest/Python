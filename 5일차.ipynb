{
 "cells": [
  {
   "cell_type": "code",
   "execution_count": 1,
   "metadata": {
    "collapsed": false
   },
   "outputs": [
    {
     "name": "stdout",
     "output_type": "stream",
     "text": [
      "휴대폰 번호를 입력해주세요.(ex - 010-1234-1234) : 002234\n"
     ]
    }
   ],
   "source": [
    "phone_number=input(\"휴대폰 번호를 입력해주세요.(ex - 010-1234-1234) : \")"
   ]
  },
  {
   "cell_type": "code",
   "execution_count": 2,
   "metadata": {
    "collapsed": false
   },
   "outputs": [
    {
     "data": {
      "text/plain": [
       "False"
      ]
     },
     "execution_count": 2,
     "metadata": {},
     "output_type": "execute_result"
    }
   ],
   "source": [
    "phone_number.startswith(\"010\")"
   ]
  },
  {
   "cell_type": "code",
   "execution_count": 8,
   "metadata": {
    "collapsed": false
   },
   "outputs": [
    {
     "data": {
      "text/plain": [
       "<_sre.SRE_Match object; span=(0, 5), match='01011'>"
      ]
     },
     "execution_count": 8,
     "metadata": {},
     "output_type": "execute_result"
    }
   ],
   "source": [
    "import re\n",
    "\n",
    "re.match(r\"01[016-9][1-9]\\d\",'01011')"
   ]
  },
  {
   "cell_type": "code",
   "execution_count": 6,
   "metadata": {
    "collapsed": false
   },
   "outputs": [
    {
     "data": {
      "text/plain": [
       "<_sre.SRE_Match object; span=(0, 11), match='01012341234'>"
      ]
     },
     "execution_count": 6,
     "metadata": {},
     "output_type": "execute_result"
    }
   ],
   "source": [
    "re.match(r\"01[016-9][1-9]\\d{7}\", \"01012341234\")"
   ]
  },
  {
   "cell_type": "code",
   "execution_count": 7,
   "metadata": {
    "collapsed": true
   },
   "outputs": [],
   "source": [
    "re.match(r\"01[016-9][1-9]\\d{7}\", \"010.2341234\")"
   ]
  },
  {
   "cell_type": "code",
   "execution_count": 9,
   "metadata": {
    "collapsed": true
   },
   "outputs": [],
   "source": [
    "re.match(r\"01[016-9][1-9]\\d{7}\", \"010-1234-1234\")"
   ]
  },
  {
   "cell_type": "code",
   "execution_count": 12,
   "metadata": {
    "collapsed": false
   },
   "outputs": [],
   "source": [
    "re.match(r\"01[016-9][-\\.]?[1-9]\\d{7}\", \"010 12341234\")\n",
    "# \\ 는 escape 문자"
   ]
  },
  {
   "cell_type": "code",
   "execution_count": 19,
   "metadata": {
    "collapsed": true
   },
   "outputs": [],
   "source": [
    "re.match(r\"01[016-9][-\\.]?[1-9]\\d{3}[-\\.]?\\d{4}\", \"010 1234 1234\")"
   ]
  },
  {
   "cell_type": "markdown",
   "metadata": {},
   "source": [
    "### 100 이하의 숫자 문자열에 매칭되는 정규표현식 작성\n",
    "- \"101\" : FAIL\n",
    "- \"100\" : OK\n",
    "- \"99\" : OK\n",
    "- \"50\" :OK\n",
    "- \"1\" : OK"
   ]
  },
  {
   "cell_type": "code",
   "execution_count": null,
   "metadata": {
    "collapsed": true
   },
   "outputs": [],
   "source": [
    "re.match(r\"[1][]\")"
   ]
  },
  {
   "cell_type": "code",
   "execution_count": 14,
   "metadata": {
    "collapsed": true
   },
   "outputs": [],
   "source": [
    "# {1,2} 1글자이상 2글자이하"
   ]
  },
  {
   "cell_type": "code",
   "execution_count": 18,
   "metadata": {
    "collapsed": true
   },
   "outputs": [],
   "source": [
    "re.match(r\"01[016-9][-\\.]?[1-9]\\d{3}[-\\.]?\\d{4}$\", \"010 1234 1234\")"
   ]
  },
  {
   "cell_type": "markdown",
   "metadata": {},
   "source": [
    "# Quiz(1)\n",
    "신용카드 번호 16자리 확인하는 정규표현식을 작성하세요."
   ]
  },
  {
   "cell_type": "code",
   "execution_count": 32,
   "metadata": {
    "collapsed": false,
    "scrolled": true
   },
   "outputs": [
    {
     "name": "stdout",
     "output_type": "stream",
     "text": [
      "True\n",
      "False\n"
     ]
    }
   ],
   "source": [
    "import re\n",
    "\n",
    "def validate_credit_number(number):\n",
    "    if not re.match(r'^\\d{4}-\\d{4}-\\d{4}-\\d{4}$', number):\n",
    "        return False # 후에 Form Validator에서는 forms.ValidationError예외를 발생시킵니다.\n",
    "    return True\n",
    "\n",
    "print(validate_credit_number('1234-1234-1234-1234')) # True\n",
    "print(validate_credit_number('1234 1234 1234 1234')) # False"
   ]
  },
  {
   "cell_type": "markdown",
   "metadata": {},
   "source": [
    "# Quiz(2)\n",
    "90년생, 남자의 주민번호를 확인하는 정규 표현식을 작성하세요."
   ]
  },
  {
   "cell_type": "code",
   "execution_count": 44,
   "metadata": {
    "collapsed": false
   },
   "outputs": [
    {
     "name": "stdout",
     "output_type": "stream",
     "text": [
      "True\n",
      "False\n"
     ]
    }
   ],
   "source": [
    "def validate_person_number(number):\n",
    "    if not re.match(r'^90[01]\\d[0123]\\d-1\\d{6}$', number):\n",
    "        return False # 후에 Form Validator에서는 forms.ValidationError예외를 발생시킵니다.\n",
    "    return True\n",
    "\n",
    "print(validate_person_number('901211-1234567')) # True\n",
    "print(validate_person_number('910222-2531234')) # False"
   ]
  },
  {
   "cell_type": "markdown",
   "metadata": {},
   "source": [
    "# Quiz(3)\n",
    "Hex color code를 모두 추출하는 정규 표현식"
   ]
  },
  {
   "cell_type": "code",
   "execution_count": 46,
   "metadata": {
    "collapsed": false
   },
   "outputs": [
    {
     "data": {
      "text/plain": [
       "['#FF0000', '#00FF00', '#0000FF']"
      ]
     },
     "execution_count": 46,
     "metadata": {},
     "output_type": "execute_result"
    }
   ],
   "source": [
    "html = \"\"\"\n",
    "<!doctype html>\n",
    "<html>\n",
    "    <head>\n",
    "        <meta charset=\"utf-8\" />\n",
    "        <title>RGB Colors</title>\n",
    "    </head>\n",
    "    <body>\n",
    "        <h1>RGB Colors</h1>\n",
    "        <ul>\n",
    "            <li>Red : #FF0000</li>\n",
    "            <li>Green : #00FF00</li>\n",
    "            <li>Blue : #0000FF</li>\n",
    "        </ul>\n",
    "    </body>\n",
    "</html>\n",
    "\"\"\"\n",
    "\n",
    "import re\n",
    "\n",
    "re.findall(r'#[0-9a-fA-F]{6}', html)"
   ]
  },
  {
   "cell_type": "code",
   "execution_count": null,
   "metadata": {
    "collapsed": true
   },
   "outputs": [],
   "source": []
  }
 ],
 "metadata": {
  "kernelspec": {
   "display_name": "Python 3",
   "language": "python",
   "name": "python3"
  },
  "language_info": {
   "codemirror_mode": {
    "name": "ipython",
    "version": 3
   },
   "file_extension": ".py",
   "mimetype": "text/x-python",
   "name": "python",
   "nbconvert_exporter": "python",
   "pygments_lexer": "ipython3",
   "version": "3.5.1"
  }
 },
 "nbformat": 4,
 "nbformat_minor": 0
}
