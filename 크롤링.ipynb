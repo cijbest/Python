{
 "cells": [
  {
   "cell_type": "code",
   "execution_count": 1,
   "metadata": {
    "collapsed": false
   },
   "outputs": [
    {
     "name": "stdout",
     "output_type": "stream",
     "text": [
      "개발환경 구축하기 https://nomade.kr/vod/setup/\n",
      "파이썬 차근차근 시작하기 https://nomade.kr/vod/python/\n",
      "크롤링 차근차근 시작하기 https://nomade.kr/vod/crawling/\n",
      "파이썬으로 업무 자동화 https://nomade.kr/vod/automation/\n",
      "장고 - 기본편 https://nomade.kr/vod/django/\n",
      "장고걸스 튜토리얼 https://nomade.kr/vod/djangogirls/\n",
      "장고 - Form/ModelForm 잘 알고 쓰기 https://nomade.kr/vod/form/\n",
      "장고 - 클래스 기반 뷰. 잘 알고 쓰기 https://nomade.kr/vod/cbv/\n",
      "장고 - 결제 시스템 연동 https://nomade.kr/vod/payment/\n",
      "장고 - 웹 프론트엔드 시작편 https://nomade.kr/vod/frontend/\n",
      "장고 - 다양한 위젯 만들기 https://nomade.kr/vod/widgets/\n",
      "장고 - API 서버 만들기 및 초간단 안드로이드 앱 만들기 https://nomade.kr/vod/apiserver/\n",
      "장고 - 하이브리드 앱 만들기 https://nomade.kr/vod/hybrid/\n",
      "장고 - 서비스 배포하기 https://nomade.kr/vod/deploy/\n",
      "장고 - 실전편 (Feat. 배달의 민족 St. 만들기) https://nomade.kr/vod/django-baemin/\n",
      "장고 - 실전편 (Feat. 인스타그램 St. 만들기) https://nomade.kr/vod/django-instagram/\n"
     ]
    }
   ],
   "source": [
    "import requests\n",
    "from bs4 import BeautifulSoup\n",
    "html = requests.get('https://askdjango.github.io/lv1/').text\n",
    "soup = BeautifulSoup(html, 'html.parser')\n",
    "for tag in soup.select('#course_list > .course > a'):\n",
    " print(tag.text, tag['href'])"
   ]
  },
  {
   "cell_type": "code",
   "execution_count": 5,
   "metadata": {
    "collapsed": false
   },
   "outputs": [
    {
     "name": "stdout",
     "output_type": "stream",
     "text": [
      "_({\"STATUS\":\"0\",\"KEYWORD\":\"박효신\",\"ARTISTCONTENTS\":[{\"ARTISTID\":\"1191\",\"ARTISTNAME\":\"박효신\",\"ARTISTNAMEDP\":\"<b>박효신</b>\",\"ARITSTIMG\":\"http://cdnimg.melon.co.kr/cm/artistcrop/images/000/01/191/1191_500.jpg/melon/resize/40/quality/80/optimize\",\"NATIONALITYNAME\":\"대한민국\",\"SEX\":\"남성\",\"ACTTYPENAMES\":\"솔로\"}],\"SONGCONTENTS\":[{\"SONGID\":\"30011624\",\"SONGNAME\":\"숨\",\"SONGNAMEDP\":\"숨\",\"ALBUMIMG\":\"http://cdnimg.melon.co.kr/cm/album/images/100/01/952/10001952_500.jpg/melon/resize/40/quality/80/optimize\",\"ALBUMID\":\"10001952\",\"ALBUMNAME\":\"I am A Dreamer\",\"ARTISTNAME\":\"박효신\"},{\"SONGID\":\"4543502\",\"SONGNAME\":\"야생화\",\"SONGNAMEDP\":\"야생화\",\"ALBUMIMG\":\"http://cdnimg.melon.co.kr/cm/album/images/022/44/822/2244822_500.jpg/melon/resize/40/quality/80/optimize\",\"ALBUMID\":\"2244822\",\"ALBUMNAME\":\"야생화\",\"ARTISTNAME\":\"박효신\"},{\"SONGID\":\"85707\",\"SONGNAME\":\"해줄 수 없는 일\",\"SONGNAMEDP\":\"해줄 수 없는 일\",\"ALBUMIMG\":\"http://cdnimg.melon.co.kr/cm/album/images/000/03/982/3982_500.jpg/melon/resize/40/quality/80/optimize\",\"ALBUMID\":\"3982\",\"ALBUMNAME\":\"해줄수 없는일\",\"ARTISTNAME\":\"박효신\"},{\"SONGID\":\"623902\",\"SONGNAME\":\"눈의 꽃\",\"SONGNAMEDP\":\"눈의 꽃\",\"ALBUMIMG\":\"http://cdnimg.melon.co.kr/cm/album/images/000/43/841/43841_500.jpg/melon/resize/40/quality/80/optimize\",\"ALBUMID\":\"43841\",\"ALBUMNAME\":\"미안하다 사랑한다 OST\",\"ARTISTNAME\":\"박효신\"},{\"SONGID\":\"430228\",\"SONGNAME\":\"좋은사람\",\"SONGNAMEDP\":\"좋은사람\",\"ALBUMIMG\":\"http://cdnimg.melon.co.kr/cm/album/images/000/16/706/16706_500.jpg/melon/resize/40/quality/80/optimize\",\"ALBUMID\":\"16706\",\"ALBUMNAME\":\"Time Honored Voice\",\"ARTISTNAME\":\"박효신\"},{\"SONGID\":\"851429\",\"SONGNAME\":\"기억속의 먼 그대에게\",\"SONGNAMEDP\":\"기억속의 먼 그대에게\",\"ALBUMIMG\":\"http://cdnimg.melon.co.kr/cm/album/images/003/03/582/303582_500.jpg/melon/resize/40/quality/80/optimize\",\"ALBUMID\":\"303582\",\"ALBUMNAME\":\"Neo Classicism\",\"ARTISTNAME\":\"박효신\"},{\"SONGID\":\"1560045\",\"SONGNAME\":\"추억은 사랑을 닮아\",\"SONGNAMEDP\":\"추억은 사랑을 닮아\",\"ALBUMIMG\":\"http://cdnimg.melon.co.kr/cm/album/images/003/43/653/343653_500.jpg/melon/resize/40/quality/80/optimize\",\"ALBUMID\":\"343653\",\"ALBUMNAME\":\"The Breeze Of Sea\",\"ARTISTNAME\":\"박효신\"},{\"SONGID\":\"3743329\",\"SONGNAME\":\"사랑한 후에\",\"SONGNAMEDP\":\"사랑한 후에\",\"ALBUMIMG\":\"http://cdnimg.melon.co.kr/cm/album/images/020/97/247/2097247_500.jpg/melon/resize/40/quality/80/optimize\",\"ALBUMID\":\"2097247\",\"ALBUMNAME\":\"Gift E.C.H.O\",\"ARTISTNAME\":\"박효신\"},{\"SONGID\":\"10837\",\"SONGNAME\":\"동경\",\"SONGNAMEDP\":\"동경\",\"ALBUMIMG\":\"http://cdnimg.melon.co.kr/cm/album/images/000/01/111/1111_500.jpg/melon/resize/40/quality/80/optimize\",\"ALBUMID\":\"1111\",\"ALBUMNAME\":\"Second Story\",\"ARTISTNAME\":\"박효신\"},{\"SONGID\":\"30017602\",\"SONGNAME\":\"Home\",\"SONGNAMEDP\":\"Home\",\"ALBUMIMG\":\"http://cdnimg.melon.co.kr/cm/album/images/100/01/952/10001952_500.jpg/melon/resize/40/quality/80/optimize\",\"ALBUMID\":\"10001952\",\"ALBUMNAME\":\"I am A Dreamer\",\"ARTISTNAME\":\"박효신\"},{\"SONGID\":\"85108\",\"SONGNAME\":\"바보\",\"SONGNAMEDP\":\"바보\",\"ALBUMIMG\":\"http://cdnimg.melon.co.kr/cm/album/images/000/03/982/3982_500.jpg/melon/resize/40/quality/80/optimize\",\"ALBUMID\":\"3982\",\"ALBUMNAME\":\"해줄수 없는일\",\"ARTISTNAME\":\"박효신\"},{\"SONGID\":\"3743328\",\"SONGNAME\":\"Gift\",\"SONGNAMEDP\":\"Gift\",\"ALBUMIMG\":\"http://cdnimg.melon.co.kr/cm/album/images/020/97/247/2097247_500.jpg/melon/resize/40/quality/80/optimize\",\"ALBUMID\":\"2097247\",\"ALBUMNAME\":\"Gift E.C.H.O\",\"ARTISTNAME\":\"박효신\"},{\"SONGID\":\"30017605\",\"SONGNAME\":\"Beautiful Tomorrow\",\"SONGNAMEDP\":\"Beautiful Tomorrow\",\"ALBUMIMG\":\"http://cdnimg.melon.co.kr/cm/album/images/100/01/952/10001952_500.jpg/melon/resize/40/quality/80/optimize\",\"ALBUMID\":\"10001952\",\"ALBUMNAME\":\"I am A Dreamer\",\"ARTISTNAME\":\"박효신\"},{\"SONGID\":\"1560051\",\"SONGNAME\":\"그립고... 그리운...\",\"SONGNAMEDP\":\"그립고... 그리운...\",\"ALBUMIMG\":\"http://cdnimg.melon.co.kr/cm/album/images/003/43/653/343653_500.jpg/melon/resize/40/quality/80/optimize\",\"ALBUMID\":\"343653\",\"ALBUMNAME\":\"The Breeze Of Sea\",\"ARTISTNAME\":\"박효신\"},{\"SONGID\":\"3743340\",\"SONGNAME\":\"널 사랑한다\",\"SONGNAMEDP\":\"널 사랑한다\",\"ALBUMIMG\":\"http://cdnimg.melon.co.kr/cm/album/images/020/97/247/2097247_500.jpg/melon/resize/40/quality/80/optimize\",\"ALBUMID\":\"2097247\",\"ALBUMNAME\":\"Gift E.C.H.O\",\"ARTISTNAME\":\"박효신\"}],\"ALBUMCONTENTS\":[{\"ALBUMID\":\"10001952\",\"ALBUMNAME\":\"I am A Dreamer\",\"ALBUMNAMEDP\":\"I am A Dreamer\",\"ALBUMIMG\":\"http://cdnimg.melon.co.kr/cm/album/images/100/01/952/10001952_500.jpg/melon/resize/40/quality/80/optimize\",\"ARTISTNAME\":\"박효신\"},{\"ALBUMID\":\"2097247\",\"ALBUMNAME\":\"Gift E.C.H.O\",\"ALBUMNAMEDP\":\"Gift E.C.H.O\",\"ALBUMIMG\":\"http://cdnimg.melon.co.kr/cm/album/images/020/97/247/2097247_500.jpg/melon/resize/40/quality/80/optimize\",\"ARTISTNAME\":\"박효신\"},{\"ALBUMID\":\"343653\",\"ALBUMNAME\":\"The Breeze Of Sea\",\"ALBUMNAMEDP\":\"The Breeze Of Sea\",\"ALBUMIMG\":\"http://cdnimg.melon.co.kr/cm/album/images/003/43/653/343653_500.jpg/melon/resize/40/quality/80/optimize\",\"ARTISTNAME\":\"박효신\"},{\"ALBUMID\":\"34418\",\"ALBUMNAME\":\"Soul Tree\",\"ALBUMNAMEDP\":\"Soul Tree\",\"ALBUMIMG\":\"http://cdnimg.melon.co.kr/cm/album/images/000/34/418/34418_500.jpg/melon/resize/40/quality/80/optimize\",\"ARTISTNAME\":\"박효신\"},{\"ALBUMID\":\"1111\",\"ALBUMNAME\":\"Second Story\",\"ALBUMNAMEDP\":\"Second Story\",\"ALBUMIMG\":\"http://cdnimg.melon.co.kr/cm/album/images/000/01/111/1111_500.jpg/melon/resize/40/quality/80/optimize\",\"ARTISTNAME\":\"박효신\"},{\"ALBUMID\":\"3982\",\"ALBUMNAME\":\"해줄수 없는일\",\"ALBUMNAMEDP\":\"해줄수 없는일\",\"ALBUMIMG\":\"http://cdnimg.melon.co.kr/cm/album/images/000/03/982/3982_500.jpg/melon/resize/40/quality/80/optimize\",\"ARTISTNAME\":\"박효신\"},{\"ALBUMID\":\"663561\",\"ALBUMNAME\":\"Gift (Part.1)\",\"ALBUMNAMEDP\":\"Gift (Part.1)\",\"ALBUMIMG\":\"http://cdnimg.melon.co.kr/cm/album/images/006/63/561/663561_500.jpg/melon/resize/40/quality/80/optimize\",\"ARTISTNAME\":\"박효신\"},{\"ALBUMID\":\"2690960\",\"ALBUMNAME\":\"THE GOLD (Original Recording Remastered)\",\"ALBUMNAMEDP\":\"THE GOLD (Original Recording Remastered)\",\"ALBUMIMG\":\"http://cdnimg.melon.co.kr/cm/album/images/026/90/960/2690960_500.jpg/melon/resize/40/quality/80/optimize\",\"ARTISTNAME\":\"박효신\"},{\"ALBUMID\":\"2244822\",\"ALBUMNAME\":\"야생화\",\"ALBUMNAMEDP\":\"야생화\",\"ALBUMIMG\":\"http://cdnimg.melon.co.kr/cm/album/images/022/44/822/2244822_500.jpg/melon/resize/40/quality/80/optimize\",\"ARTISTNAME\":\"박효신\"},{\"ALBUMID\":\"2292019\",\"ALBUMNAME\":\"HAPPY TOGETHER\",\"ALBUMNAMEDP\":\"HAPPY TOGETHER\",\"ALBUMIMG\":\"http://cdnimg.melon.co.kr/cm/album/images/022/92/019/2292019_500.jpg/melon/resize/40/quality/80/optimize\",\"ARTISTNAME\":\"박효신\"},{\"ALBUMID\":\"1099988\",\"ALBUMNAME\":\"Gift (Part.2)\",\"ALBUMNAMEDP\":\"Gift (Part.2)\",\"ALBUMIMG\":\"http://cdnimg.melon.co.kr/cm/album/images/010/99/988/1099988_500.jpg/melon/resize/40/quality/80/optimize\",\"ARTISTNAME\":\"박효신\"},{\"ALBUMID\":\"303582\",\"ALBUMNAME\":\"Neo Classicism\",\"ALBUMNAMEDP\":\"Neo Classicism\",\"ALBUMIMG\":\"http://cdnimg.melon.co.kr/cm/album/images/003/03/582/303582_500.jpg/melon/resize/40/quality/80/optimize\",\"ARTISTNAME\":\"박효신\"},{\"ALBUMID\":\"16706\",\"ALBUMNAME\":\"Time Honored Voice\",\"ALBUMNAMEDP\":\"Time Honored Voice\",\"ALBUMIMG\":\"http://cdnimg.melon.co.kr/cm/album/images/000/16/706/16706_500.jpg/melon/resize/40/quality/80/optimize\",\"ARTISTNAME\":\"박효신\"},{\"ALBUMID\":\"2312480\",\"ALBUMNAME\":\"Shine Your Light\",\"ALBUMNAMEDP\":\"Shine Your Light\",\"ALBUMIMG\":\"http://cdnimg.melon.co.kr/cm/album/images/023/12/480/2312480_500.jpg/melon/resize/40/quality/80/optimize\",\"ARTISTNAME\":\"박효신\"},{\"ALBUMID\":\"2074607\",\"ALBUMNAME\":\"나를 넘는다\",\"ALBUMNAMEDP\":\"나를 넘는다\",\"ALBUMIMG\":\"http://cdnimg.melon.co.kr/cm/album/images/020/74/607/2074607_500.jpg/melon/resize/40/quality/80/optimize\",\"ARTISTNAME\":\"박효신\"}],\"KEYWORDCONTENTS\":[{\"KEYWORDDP\":\"<b>박효신</b>\",\"KEYWORD\":\"박효신\"},{\"KEYWORDDP\":\"<b>박효신</b> 마지막 인사\",\"KEYWORD\":\"박효신 마지막 인사\"},{\"KEYWORDDP\":\"<b>박효신</b> 숨\",\"KEYWORD\":\"박효신 숨\"},{\"KEYWORDDP\":\"<b>박효신</b> 야생화\",\"KEYWORD\":\"박효신 야생화\"},{\"KEYWORDDP\":\"<b>박효신</b> HAPPY TOGETHER\",\"KEYWORD\":\"박효신 HAPPY TOGETHER\"},{\"KEYWORDDP\":\"<b>박효신</b> 해줄 수 없는 일\",\"KEYWORD\":\"박효신 해줄 수 없는 일\"},{\"KEYWORDDP\":\"<b>박효신</b> 기억속의 먼 그대에게\",\"KEYWORD\":\"박효신 기억속의 먼 그대에게\"},{\"KEYWORDDP\":\"<b>박효신</b> 동경\",\"KEYWORD\":\"박효신 동경\"},{\"KEYWORDDP\":\"<b>박효신</b> Home\",\"KEYWORD\":\"박효신 Home\"},{\"KEYWORDDP\":\"<b>박효신</b> 눈의 꽃\",\"KEYWORD\":\"박효신 눈의 꽃\"},{\"KEYWORDDP\":\"<b>박효신</b> Gift\",\"KEYWORD\":\"박효신 Gift\"},{\"KEYWORDDP\":\"<b>박효신</b> 좋은사람\",\"KEYWORD\":\"박효신 좋은사람\"},{\"KEYWORDDP\":\"<b>박효신</b> 이상하다\",\"KEYWORD\":\"박효신 이상하다\"},{\"KEYWORDDP\":\"<b>박효신</b> 꿈\",\"KEYWORD\":\"박효신 꿈\"},{\"KEYWORDDP\":\"<b>박효신</b> 애상\",\"KEYWORD\":\"박효신 애상\"}],\"httpDomain\":\"http://www.melon.com\",\"httpsDomain\":\"https://www.melon.com\",\"staticDomain\":\"https://static.melon.co.kr\"});\n"
     ]
    }
   ],
   "source": [
    "import requests\n",
    "search_url = \"http://www.melon.com/search/keyword/index.json\"\n",
    "params = {\n",
    "    \"jscallback\" : \"_\",\n",
    "    \"query\" : \"박효신\",\n",
    "\n",
    "}\n",
    "jsonp_string = requests.get(search_url, params = params).text\n",
    "print(jsonp_string)"
   ]
  },
  {
   "cell_type": "code",
   "execution_count": 9,
   "metadata": {
    "collapsed": false
   },
   "outputs": [
    {
     "data": {
      "text/plain": [
       "{'ALBUMCONTENTS': [{'ALBUMID': '10001952',\n",
       "   'ALBUMIMG': 'http://cdnimg.melon.co.kr/cm/album/images/100/01/952/10001952_500.jpg/melon/resize/40/quality/80/optimize',\n",
       "   'ALBUMNAME': 'I am A Dreamer',\n",
       "   'ALBUMNAMEDP': 'I am A Dreamer',\n",
       "   'ARTISTNAME': '박효신'},\n",
       "  {'ALBUMID': '2097247',\n",
       "   'ALBUMIMG': 'http://cdnimg.melon.co.kr/cm/album/images/020/97/247/2097247_500.jpg/melon/resize/40/quality/80/optimize',\n",
       "   'ALBUMNAME': 'Gift E.C.H.O',\n",
       "   'ALBUMNAMEDP': 'Gift E.C.H.O',\n",
       "   'ARTISTNAME': '박효신'},\n",
       "  {'ALBUMID': '343653',\n",
       "   'ALBUMIMG': 'http://cdnimg.melon.co.kr/cm/album/images/003/43/653/343653_500.jpg/melon/resize/40/quality/80/optimize',\n",
       "   'ALBUMNAME': 'The Breeze Of Sea',\n",
       "   'ALBUMNAMEDP': 'The Breeze Of Sea',\n",
       "   'ARTISTNAME': '박효신'},\n",
       "  {'ALBUMID': '34418',\n",
       "   'ALBUMIMG': 'http://cdnimg.melon.co.kr/cm/album/images/000/34/418/34418_500.jpg/melon/resize/40/quality/80/optimize',\n",
       "   'ALBUMNAME': 'Soul Tree',\n",
       "   'ALBUMNAMEDP': 'Soul Tree',\n",
       "   'ARTISTNAME': '박효신'},\n",
       "  {'ALBUMID': '1111',\n",
       "   'ALBUMIMG': 'http://cdnimg.melon.co.kr/cm/album/images/000/01/111/1111_500.jpg/melon/resize/40/quality/80/optimize',\n",
       "   'ALBUMNAME': 'Second Story',\n",
       "   'ALBUMNAMEDP': 'Second Story',\n",
       "   'ARTISTNAME': '박효신'},\n",
       "  {'ALBUMID': '3982',\n",
       "   'ALBUMIMG': 'http://cdnimg.melon.co.kr/cm/album/images/000/03/982/3982_500.jpg/melon/resize/40/quality/80/optimize',\n",
       "   'ALBUMNAME': '해줄수 없는일',\n",
       "   'ALBUMNAMEDP': '해줄수 없는일',\n",
       "   'ARTISTNAME': '박효신'},\n",
       "  {'ALBUMID': '663561',\n",
       "   'ALBUMIMG': 'http://cdnimg.melon.co.kr/cm/album/images/006/63/561/663561_500.jpg/melon/resize/40/quality/80/optimize',\n",
       "   'ALBUMNAME': 'Gift (Part.1)',\n",
       "   'ALBUMNAMEDP': 'Gift (Part.1)',\n",
       "   'ARTISTNAME': '박효신'},\n",
       "  {'ALBUMID': '2690960',\n",
       "   'ALBUMIMG': 'http://cdnimg.melon.co.kr/cm/album/images/026/90/960/2690960_500.jpg/melon/resize/40/quality/80/optimize',\n",
       "   'ALBUMNAME': 'THE GOLD (Original Recording Remastered)',\n",
       "   'ALBUMNAMEDP': 'THE GOLD (Original Recording Remastered)',\n",
       "   'ARTISTNAME': '박효신'},\n",
       "  {'ALBUMID': '2244822',\n",
       "   'ALBUMIMG': 'http://cdnimg.melon.co.kr/cm/album/images/022/44/822/2244822_500.jpg/melon/resize/40/quality/80/optimize',\n",
       "   'ALBUMNAME': '야생화',\n",
       "   'ALBUMNAMEDP': '야생화',\n",
       "   'ARTISTNAME': '박효신'},\n",
       "  {'ALBUMID': '2292019',\n",
       "   'ALBUMIMG': 'http://cdnimg.melon.co.kr/cm/album/images/022/92/019/2292019_500.jpg/melon/resize/40/quality/80/optimize',\n",
       "   'ALBUMNAME': 'HAPPY TOGETHER',\n",
       "   'ALBUMNAMEDP': 'HAPPY TOGETHER',\n",
       "   'ARTISTNAME': '박효신'},\n",
       "  {'ALBUMID': '1099988',\n",
       "   'ALBUMIMG': 'http://cdnimg.melon.co.kr/cm/album/images/010/99/988/1099988_500.jpg/melon/resize/40/quality/80/optimize',\n",
       "   'ALBUMNAME': 'Gift (Part.2)',\n",
       "   'ALBUMNAMEDP': 'Gift (Part.2)',\n",
       "   'ARTISTNAME': '박효신'},\n",
       "  {'ALBUMID': '303582',\n",
       "   'ALBUMIMG': 'http://cdnimg.melon.co.kr/cm/album/images/003/03/582/303582_500.jpg/melon/resize/40/quality/80/optimize',\n",
       "   'ALBUMNAME': 'Neo Classicism',\n",
       "   'ALBUMNAMEDP': 'Neo Classicism',\n",
       "   'ARTISTNAME': '박효신'},\n",
       "  {'ALBUMID': '16706',\n",
       "   'ALBUMIMG': 'http://cdnimg.melon.co.kr/cm/album/images/000/16/706/16706_500.jpg/melon/resize/40/quality/80/optimize',\n",
       "   'ALBUMNAME': 'Time Honored Voice',\n",
       "   'ALBUMNAMEDP': 'Time Honored Voice',\n",
       "   'ARTISTNAME': '박효신'},\n",
       "  {'ALBUMID': '2312480',\n",
       "   'ALBUMIMG': 'http://cdnimg.melon.co.kr/cm/album/images/023/12/480/2312480_500.jpg/melon/resize/40/quality/80/optimize',\n",
       "   'ALBUMNAME': 'Shine Your Light',\n",
       "   'ALBUMNAMEDP': 'Shine Your Light',\n",
       "   'ARTISTNAME': '박효신'},\n",
       "  {'ALBUMID': '2074607',\n",
       "   'ALBUMIMG': 'http://cdnimg.melon.co.kr/cm/album/images/020/74/607/2074607_500.jpg/melon/resize/40/quality/80/optimize',\n",
       "   'ALBUMNAME': '나를 넘는다',\n",
       "   'ALBUMNAMEDP': '나를 넘는다',\n",
       "   'ARTISTNAME': '박효신'}],\n",
       " 'ARTISTCONTENTS': [{'ACTTYPENAMES': '솔로',\n",
       "   'ARITSTIMG': 'http://cdnimg.melon.co.kr/cm/artistcrop/images/000/01/191/1191_500.jpg/melon/resize/40/quality/80/optimize',\n",
       "   'ARTISTID': '1191',\n",
       "   'ARTISTNAME': '박효신',\n",
       "   'ARTISTNAMEDP': '<b>박효신</b>',\n",
       "   'NATIONALITYNAME': '대한민국',\n",
       "   'SEX': '남성'}],\n",
       " 'KEYWORD': '박효신',\n",
       " 'KEYWORDCONTENTS': [{'KEYWORD': '박효신', 'KEYWORDDP': '<b>박효신</b>'},\n",
       "  {'KEYWORD': '박효신 마지막 인사', 'KEYWORDDP': '<b>박효신</b> 마지막 인사'},\n",
       "  {'KEYWORD': '박효신 숨', 'KEYWORDDP': '<b>박효신</b> 숨'},\n",
       "  {'KEYWORD': '박효신 야생화', 'KEYWORDDP': '<b>박효신</b> 야생화'},\n",
       "  {'KEYWORD': '박효신 HAPPY TOGETHER', 'KEYWORDDP': '<b>박효신</b> HAPPY TOGETHER'},\n",
       "  {'KEYWORD': '박효신 해줄 수 없는 일', 'KEYWORDDP': '<b>박효신</b> 해줄 수 없는 일'},\n",
       "  {'KEYWORD': '박효신 기억속의 먼 그대에게', 'KEYWORDDP': '<b>박효신</b> 기억속의 먼 그대에게'},\n",
       "  {'KEYWORD': '박효신 동경', 'KEYWORDDP': '<b>박효신</b> 동경'},\n",
       "  {'KEYWORD': '박효신 Home', 'KEYWORDDP': '<b>박효신</b> Home'},\n",
       "  {'KEYWORD': '박효신 눈의 꽃', 'KEYWORDDP': '<b>박효신</b> 눈의 꽃'},\n",
       "  {'KEYWORD': '박효신 Gift', 'KEYWORDDP': '<b>박효신</b> Gift'},\n",
       "  {'KEYWORD': '박효신 좋은사람', 'KEYWORDDP': '<b>박효신</b> 좋은사람'},\n",
       "  {'KEYWORD': '박효신 이상하다', 'KEYWORDDP': '<b>박효신</b> 이상하다'},\n",
       "  {'KEYWORD': '박효신 꿈', 'KEYWORDDP': '<b>박효신</b> 꿈'},\n",
       "  {'KEYWORD': '박효신 애상', 'KEYWORDDP': '<b>박효신</b> 애상'}],\n",
       " 'SONGCONTENTS': [{'ALBUMID': '10001952',\n",
       "   'ALBUMIMG': 'http://cdnimg.melon.co.kr/cm/album/images/100/01/952/10001952_500.jpg/melon/resize/40/quality/80/optimize',\n",
       "   'ALBUMNAME': 'I am A Dreamer',\n",
       "   'ARTISTNAME': '박효신',\n",
       "   'SONGID': '30011624',\n",
       "   'SONGNAME': '숨',\n",
       "   'SONGNAMEDP': '숨'},\n",
       "  {'ALBUMID': '2244822',\n",
       "   'ALBUMIMG': 'http://cdnimg.melon.co.kr/cm/album/images/022/44/822/2244822_500.jpg/melon/resize/40/quality/80/optimize',\n",
       "   'ALBUMNAME': '야생화',\n",
       "   'ARTISTNAME': '박효신',\n",
       "   'SONGID': '4543502',\n",
       "   'SONGNAME': '야생화',\n",
       "   'SONGNAMEDP': '야생화'},\n",
       "  {'ALBUMID': '3982',\n",
       "   'ALBUMIMG': 'http://cdnimg.melon.co.kr/cm/album/images/000/03/982/3982_500.jpg/melon/resize/40/quality/80/optimize',\n",
       "   'ALBUMNAME': '해줄수 없는일',\n",
       "   'ARTISTNAME': '박효신',\n",
       "   'SONGID': '85707',\n",
       "   'SONGNAME': '해줄 수 없는 일',\n",
       "   'SONGNAMEDP': '해줄 수 없는 일'},\n",
       "  {'ALBUMID': '43841',\n",
       "   'ALBUMIMG': 'http://cdnimg.melon.co.kr/cm/album/images/000/43/841/43841_500.jpg/melon/resize/40/quality/80/optimize',\n",
       "   'ALBUMNAME': '미안하다 사랑한다 OST',\n",
       "   'ARTISTNAME': '박효신',\n",
       "   'SONGID': '623902',\n",
       "   'SONGNAME': '눈의 꽃',\n",
       "   'SONGNAMEDP': '눈의 꽃'},\n",
       "  {'ALBUMID': '16706',\n",
       "   'ALBUMIMG': 'http://cdnimg.melon.co.kr/cm/album/images/000/16/706/16706_500.jpg/melon/resize/40/quality/80/optimize',\n",
       "   'ALBUMNAME': 'Time Honored Voice',\n",
       "   'ARTISTNAME': '박효신',\n",
       "   'SONGID': '430228',\n",
       "   'SONGNAME': '좋은사람',\n",
       "   'SONGNAMEDP': '좋은사람'},\n",
       "  {'ALBUMID': '303582',\n",
       "   'ALBUMIMG': 'http://cdnimg.melon.co.kr/cm/album/images/003/03/582/303582_500.jpg/melon/resize/40/quality/80/optimize',\n",
       "   'ALBUMNAME': 'Neo Classicism',\n",
       "   'ARTISTNAME': '박효신',\n",
       "   'SONGID': '851429',\n",
       "   'SONGNAME': '기억속의 먼 그대에게',\n",
       "   'SONGNAMEDP': '기억속의 먼 그대에게'},\n",
       "  {'ALBUMID': '343653',\n",
       "   'ALBUMIMG': 'http://cdnimg.melon.co.kr/cm/album/images/003/43/653/343653_500.jpg/melon/resize/40/quality/80/optimize',\n",
       "   'ALBUMNAME': 'The Breeze Of Sea',\n",
       "   'ARTISTNAME': '박효신',\n",
       "   'SONGID': '1560045',\n",
       "   'SONGNAME': '추억은 사랑을 닮아',\n",
       "   'SONGNAMEDP': '추억은 사랑을 닮아'},\n",
       "  {'ALBUMID': '2097247',\n",
       "   'ALBUMIMG': 'http://cdnimg.melon.co.kr/cm/album/images/020/97/247/2097247_500.jpg/melon/resize/40/quality/80/optimize',\n",
       "   'ALBUMNAME': 'Gift E.C.H.O',\n",
       "   'ARTISTNAME': '박효신',\n",
       "   'SONGID': '3743329',\n",
       "   'SONGNAME': '사랑한 후에',\n",
       "   'SONGNAMEDP': '사랑한 후에'},\n",
       "  {'ALBUMID': '1111',\n",
       "   'ALBUMIMG': 'http://cdnimg.melon.co.kr/cm/album/images/000/01/111/1111_500.jpg/melon/resize/40/quality/80/optimize',\n",
       "   'ALBUMNAME': 'Second Story',\n",
       "   'ARTISTNAME': '박효신',\n",
       "   'SONGID': '10837',\n",
       "   'SONGNAME': '동경',\n",
       "   'SONGNAMEDP': '동경'},\n",
       "  {'ALBUMID': '10001952',\n",
       "   'ALBUMIMG': 'http://cdnimg.melon.co.kr/cm/album/images/100/01/952/10001952_500.jpg/melon/resize/40/quality/80/optimize',\n",
       "   'ALBUMNAME': 'I am A Dreamer',\n",
       "   'ARTISTNAME': '박효신',\n",
       "   'SONGID': '30017602',\n",
       "   'SONGNAME': 'Home',\n",
       "   'SONGNAMEDP': 'Home'},\n",
       "  {'ALBUMID': '3982',\n",
       "   'ALBUMIMG': 'http://cdnimg.melon.co.kr/cm/album/images/000/03/982/3982_500.jpg/melon/resize/40/quality/80/optimize',\n",
       "   'ALBUMNAME': '해줄수 없는일',\n",
       "   'ARTISTNAME': '박효신',\n",
       "   'SONGID': '85108',\n",
       "   'SONGNAME': '바보',\n",
       "   'SONGNAMEDP': '바보'},\n",
       "  {'ALBUMID': '2097247',\n",
       "   'ALBUMIMG': 'http://cdnimg.melon.co.kr/cm/album/images/020/97/247/2097247_500.jpg/melon/resize/40/quality/80/optimize',\n",
       "   'ALBUMNAME': 'Gift E.C.H.O',\n",
       "   'ARTISTNAME': '박효신',\n",
       "   'SONGID': '3743328',\n",
       "   'SONGNAME': 'Gift',\n",
       "   'SONGNAMEDP': 'Gift'},\n",
       "  {'ALBUMID': '10001952',\n",
       "   'ALBUMIMG': 'http://cdnimg.melon.co.kr/cm/album/images/100/01/952/10001952_500.jpg/melon/resize/40/quality/80/optimize',\n",
       "   'ALBUMNAME': 'I am A Dreamer',\n",
       "   'ARTISTNAME': '박효신',\n",
       "   'SONGID': '30017605',\n",
       "   'SONGNAME': 'Beautiful Tomorrow',\n",
       "   'SONGNAMEDP': 'Beautiful Tomorrow'},\n",
       "  {'ALBUMID': '343653',\n",
       "   'ALBUMIMG': 'http://cdnimg.melon.co.kr/cm/album/images/003/43/653/343653_500.jpg/melon/resize/40/quality/80/optimize',\n",
       "   'ALBUMNAME': 'The Breeze Of Sea',\n",
       "   'ARTISTNAME': '박효신',\n",
       "   'SONGID': '1560051',\n",
       "   'SONGNAME': '그립고... 그리운...',\n",
       "   'SONGNAMEDP': '그립고... 그리운...'},\n",
       "  {'ALBUMID': '2097247',\n",
       "   'ALBUMIMG': 'http://cdnimg.melon.co.kr/cm/album/images/020/97/247/2097247_500.jpg/melon/resize/40/quality/80/optimize',\n",
       "   'ALBUMNAME': 'Gift E.C.H.O',\n",
       "   'ARTISTNAME': '박효신',\n",
       "   'SONGID': '3743340',\n",
       "   'SONGNAME': '널 사랑한다',\n",
       "   'SONGNAMEDP': '널 사랑한다'}],\n",
       " 'STATUS': '0',\n",
       " 'httpDomain': 'http://www.melon.com',\n",
       " 'httpsDomain': 'https://www.melon.com',\n",
       " 'staticDomain': 'https://static.melon.co.kr'}"
      ]
     },
     "execution_count": 9,
     "metadata": {},
     "output_type": "execute_result"
    }
   ],
   "source": [
    "import json\n",
    "\n",
    "json_string = jsonp_string.replace('_(', '').replace(');', '')\n",
    "search_result = json.loads(json_string)\n",
    "search_result"
   ]
  },
  {
   "cell_type": "code",
   "execution_count": 16,
   "metadata": {
    "collapsed": false
   },
   "outputs": [
    {
     "data": {
      "text/plain": [
       "dict_keys(['staticDomain', 'httpsDomain', 'SONGCONTENTS', 'KEYWORDCONTENTS', 'STATUS', 'ALBUMCONTENTS', 'KEYWORD', 'ARTISTCONTENTS', 'httpDomain'])"
      ]
     },
     "execution_count": 16,
     "metadata": {},
     "output_type": "execute_result"
    }
   ],
   "source": [
    "search_result.keys()"
   ]
  },
  {
   "cell_type": "code",
   "execution_count": 52,
   "metadata": {
    "collapsed": false
   },
   "outputs": [
    {
     "data": {
      "text/html": [
       "<img src=\"http://cdnimg.melon.co.kr/cm/album/images/100/01/952/10001952_500.jpg/melon/resize/40/quality/80/optimize\"/>"
      ],
      "text/plain": [
       "<IPython.core.display.Image object>"
      ]
     },
     "metadata": {},
     "output_type": "display_data"
    },
    {
     "name": "stdout",
     "output_type": "stream",
     "text": [
      "[I am A Dreamer] 숨 - 박효신\n"
     ]
    },
    {
     "data": {
      "text/html": [
       "<img src=\"http://cdnimg.melon.co.kr/cm/album/images/022/44/822/2244822_500.jpg/melon/resize/40/quality/80/optimize\"/>"
      ],
      "text/plain": [
       "<IPython.core.display.Image object>"
      ]
     },
     "metadata": {},
     "output_type": "display_data"
    },
    {
     "name": "stdout",
     "output_type": "stream",
     "text": [
      "[야생화] 야생화 - 박효신\n"
     ]
    },
    {
     "data": {
      "text/html": [
       "<img src=\"http://cdnimg.melon.co.kr/cm/album/images/000/03/982/3982_500.jpg/melon/resize/40/quality/80/optimize\"/>"
      ],
      "text/plain": [
       "<IPython.core.display.Image object>"
      ]
     },
     "metadata": {},
     "output_type": "display_data"
    },
    {
     "name": "stdout",
     "output_type": "stream",
     "text": [
      "[해줄수 없는일] 해줄 수 없는 일 - 박효신\n"
     ]
    },
    {
     "data": {
      "text/html": [
       "<img src=\"http://cdnimg.melon.co.kr/cm/album/images/000/43/841/43841_500.jpg/melon/resize/40/quality/80/optimize\"/>"
      ],
      "text/plain": [
       "<IPython.core.display.Image object>"
      ]
     },
     "metadata": {},
     "output_type": "display_data"
    },
    {
     "name": "stdout",
     "output_type": "stream",
     "text": [
      "[미안하다 사랑한다 OST] 눈의 꽃 - 박효신\n"
     ]
    },
    {
     "data": {
      "text/html": [
       "<img src=\"http://cdnimg.melon.co.kr/cm/album/images/000/16/706/16706_500.jpg/melon/resize/40/quality/80/optimize\"/>"
      ],
      "text/plain": [
       "<IPython.core.display.Image object>"
      ]
     },
     "metadata": {},
     "output_type": "display_data"
    },
    {
     "name": "stdout",
     "output_type": "stream",
     "text": [
      "[Time Honored Voice] 좋은사람 - 박효신\n"
     ]
    },
    {
     "data": {
      "text/html": [
       "<img src=\"http://cdnimg.melon.co.kr/cm/album/images/003/03/582/303582_500.jpg/melon/resize/40/quality/80/optimize\"/>"
      ],
      "text/plain": [
       "<IPython.core.display.Image object>"
      ]
     },
     "metadata": {},
     "output_type": "display_data"
    },
    {
     "name": "stdout",
     "output_type": "stream",
     "text": [
      "[Neo Classicism] 기억속의 먼 그대에게 - 박효신\n"
     ]
    },
    {
     "data": {
      "text/html": [
       "<img src=\"http://cdnimg.melon.co.kr/cm/album/images/003/43/653/343653_500.jpg/melon/resize/40/quality/80/optimize\"/>"
      ],
      "text/plain": [
       "<IPython.core.display.Image object>"
      ]
     },
     "metadata": {},
     "output_type": "display_data"
    },
    {
     "name": "stdout",
     "output_type": "stream",
     "text": [
      "[The Breeze Of Sea] 추억은 사랑을 닮아 - 박효신\n"
     ]
    },
    {
     "data": {
      "text/html": [
       "<img src=\"http://cdnimg.melon.co.kr/cm/album/images/020/97/247/2097247_500.jpg/melon/resize/40/quality/80/optimize\"/>"
      ],
      "text/plain": [
       "<IPython.core.display.Image object>"
      ]
     },
     "metadata": {},
     "output_type": "display_data"
    },
    {
     "name": "stdout",
     "output_type": "stream",
     "text": [
      "[Gift E.C.H.O] 사랑한 후에 - 박효신\n"
     ]
    },
    {
     "data": {
      "text/html": [
       "<img src=\"http://cdnimg.melon.co.kr/cm/album/images/000/01/111/1111_500.jpg/melon/resize/40/quality/80/optimize\"/>"
      ],
      "text/plain": [
       "<IPython.core.display.Image object>"
      ]
     },
     "metadata": {},
     "output_type": "display_data"
    },
    {
     "name": "stdout",
     "output_type": "stream",
     "text": [
      "[Second Story] 동경 - 박효신\n"
     ]
    },
    {
     "data": {
      "text/html": [
       "<img src=\"http://cdnimg.melon.co.kr/cm/album/images/100/01/952/10001952_500.jpg/melon/resize/40/quality/80/optimize\"/>"
      ],
      "text/plain": [
       "<IPython.core.display.Image object>"
      ]
     },
     "metadata": {},
     "output_type": "display_data"
    },
    {
     "name": "stdout",
     "output_type": "stream",
     "text": [
      "[I am A Dreamer] Home - 박효신\n"
     ]
    },
    {
     "data": {
      "text/html": [
       "<img src=\"http://cdnimg.melon.co.kr/cm/album/images/000/03/982/3982_500.jpg/melon/resize/40/quality/80/optimize\"/>"
      ],
      "text/plain": [
       "<IPython.core.display.Image object>"
      ]
     },
     "metadata": {},
     "output_type": "display_data"
    },
    {
     "name": "stdout",
     "output_type": "stream",
     "text": [
      "[해줄수 없는일] 바보 - 박효신\n"
     ]
    },
    {
     "data": {
      "text/html": [
       "<img src=\"http://cdnimg.melon.co.kr/cm/album/images/020/97/247/2097247_500.jpg/melon/resize/40/quality/80/optimize\"/>"
      ],
      "text/plain": [
       "<IPython.core.display.Image object>"
      ]
     },
     "metadata": {},
     "output_type": "display_data"
    },
    {
     "name": "stdout",
     "output_type": "stream",
     "text": [
      "[Gift E.C.H.O] Gift - 박효신\n"
     ]
    },
    {
     "data": {
      "text/html": [
       "<img src=\"http://cdnimg.melon.co.kr/cm/album/images/100/01/952/10001952_500.jpg/melon/resize/40/quality/80/optimize\"/>"
      ],
      "text/plain": [
       "<IPython.core.display.Image object>"
      ]
     },
     "metadata": {},
     "output_type": "display_data"
    },
    {
     "name": "stdout",
     "output_type": "stream",
     "text": [
      "[I am A Dreamer] Beautiful Tomorrow - 박효신\n"
     ]
    },
    {
     "data": {
      "text/html": [
       "<img src=\"http://cdnimg.melon.co.kr/cm/album/images/003/43/653/343653_500.jpg/melon/resize/40/quality/80/optimize\"/>"
      ],
      "text/plain": [
       "<IPython.core.display.Image object>"
      ]
     },
     "metadata": {},
     "output_type": "display_data"
    },
    {
     "name": "stdout",
     "output_type": "stream",
     "text": [
      "[The Breeze Of Sea] 그립고... 그리운... - 박효신\n"
     ]
    },
    {
     "data": {
      "text/html": [
       "<img src=\"http://cdnimg.melon.co.kr/cm/album/images/020/97/247/2097247_500.jpg/melon/resize/40/quality/80/optimize\"/>"
      ],
      "text/plain": [
       "<IPython.core.display.Image object>"
      ]
     },
     "metadata": {},
     "output_type": "display_data"
    },
    {
     "name": "stdout",
     "output_type": "stream",
     "text": [
      "[Gift E.C.H.O] 널 사랑한다 - 박효신\n"
     ]
    }
   ],
   "source": [
    "from IPython.display import Image, display\n",
    "\n",
    "for song in search_result['SONGCONTENTS']:\n",
    "    display(Image(url=song['ALBUMIMG']))\n",
    "    # print(song['SONGNAME'])\n",
    "    print(\"[{ALBUMNAME}] {SONGNAME} - {ARTISTNAME}\".format(**song))\n",
    "    # print(song)"
   ]
  },
  {
   "cell_type": "code",
   "execution_count": 28,
   "metadata": {
    "collapsed": true
   },
   "outputs": [],
   "source": [
    "import json\n",
    "import requests\n",
    "from IPython.display import Image, display\n",
    "\n",
    "\n",
    "def melon_search(query):\n",
    "    search_url = \"http://www.melon.com/search/keyword/index.json\"\n",
    "    params = {\n",
    "        \"jscallback\" : \"_\",\n",
    "        \"query\": query,\n",
    "    }\n",
    "    jsonp_string = requests.get(search_url, params=params).text\n",
    "    json_string = jsonp_string.replace('_(', '').replace(');', '')\n",
    "    search_result = json.loads(json_string)\n",
    "    \n",
    "    print(\"## ALBUM ##\")\n",
    "    \n",
    "    for album in search_result['ALBUMCONTENTS']:\n",
    "        display(Image(url=album['ALBUMIMG']))\n",
    "        print('{ALBUMNAME} - ARTISTNAME'.format(**album))\n",
    "        print('http://www.melon.com/album/detail.htm?albumId={ALBUMID}'.format(**album))\n",
    "    \n",
    "    print()\n",
    "    print(\"## SONG ##\")\n",
    "        \n",
    "    for song in search_result['SONGCONTENTS']:\n",
    "        display(Image(url=song['ALBUMIMG']))\n",
    "        # print(song['SONGNAME'])\n",
    "        print(\"[{ALBUMNAME}] {SONGNAME} - {ARTISTNAME}\".format(**song))\n",
    "        print(\"http://www.melon.com/song/detail.htm?songId={SONGID}\".format(**song))\n",
    "        # print(song)"
   ]
  },
  {
   "cell_type": "code",
   "execution_count": 24,
   "metadata": {
    "collapsed": false
   },
   "outputs": [
    {
     "name": "stdout",
     "output_type": "stream",
     "text": [
      "## ALBUM ##\n"
     ]
    },
    {
     "data": {
      "text/html": [
       "<img src=\"http://cdnimg.melon.co.kr/cm/album/images/100/01/952/10001952_500.jpg/melon/resize/40/quality/80/optimize\"/>"
      ],
      "text/plain": [
       "<IPython.core.display.Image object>"
      ]
     },
     "metadata": {},
     "output_type": "display_data"
    },
    {
     "name": "stdout",
     "output_type": "stream",
     "text": [
      "I am A Dreamer - ARTISTNAME\n",
      "http://www.melon.com/album/detail.htm?albumId=10001952\n"
     ]
    },
    {
     "data": {
      "text/html": [
       "<img src=\"http://cdnimg.melon.co.kr/cm/album/images/020/97/247/2097247_500.jpg/melon/resize/40/quality/80/optimize\"/>"
      ],
      "text/plain": [
       "<IPython.core.display.Image object>"
      ]
     },
     "metadata": {},
     "output_type": "display_data"
    },
    {
     "name": "stdout",
     "output_type": "stream",
     "text": [
      "Gift E.C.H.O - ARTISTNAME\n",
      "http://www.melon.com/album/detail.htm?albumId=2097247\n"
     ]
    },
    {
     "data": {
      "text/html": [
       "<img src=\"http://cdnimg.melon.co.kr/cm/album/images/003/43/653/343653_500.jpg/melon/resize/40/quality/80/optimize\"/>"
      ],
      "text/plain": [
       "<IPython.core.display.Image object>"
      ]
     },
     "metadata": {},
     "output_type": "display_data"
    },
    {
     "name": "stdout",
     "output_type": "stream",
     "text": [
      "The Breeze Of Sea - ARTISTNAME\n",
      "http://www.melon.com/album/detail.htm?albumId=343653\n"
     ]
    },
    {
     "data": {
      "text/html": [
       "<img src=\"http://cdnimg.melon.co.kr/cm/album/images/000/34/418/34418_500.jpg/melon/resize/40/quality/80/optimize\"/>"
      ],
      "text/plain": [
       "<IPython.core.display.Image object>"
      ]
     },
     "metadata": {},
     "output_type": "display_data"
    },
    {
     "name": "stdout",
     "output_type": "stream",
     "text": [
      "Soul Tree - ARTISTNAME\n",
      "http://www.melon.com/album/detail.htm?albumId=34418\n"
     ]
    },
    {
     "data": {
      "text/html": [
       "<img src=\"http://cdnimg.melon.co.kr/cm/album/images/000/01/111/1111_500.jpg/melon/resize/40/quality/80/optimize\"/>"
      ],
      "text/plain": [
       "<IPython.core.display.Image object>"
      ]
     },
     "metadata": {},
     "output_type": "display_data"
    },
    {
     "name": "stdout",
     "output_type": "stream",
     "text": [
      "Second Story - ARTISTNAME\n",
      "http://www.melon.com/album/detail.htm?albumId=1111\n"
     ]
    },
    {
     "data": {
      "text/html": [
       "<img src=\"http://cdnimg.melon.co.kr/cm/album/images/000/03/982/3982_500.jpg/melon/resize/40/quality/80/optimize\"/>"
      ],
      "text/plain": [
       "<IPython.core.display.Image object>"
      ]
     },
     "metadata": {},
     "output_type": "display_data"
    },
    {
     "name": "stdout",
     "output_type": "stream",
     "text": [
      "해줄수 없는일 - ARTISTNAME\n",
      "http://www.melon.com/album/detail.htm?albumId=3982\n"
     ]
    },
    {
     "data": {
      "text/html": [
       "<img src=\"http://cdnimg.melon.co.kr/cm/album/images/006/63/561/663561_500.jpg/melon/resize/40/quality/80/optimize\"/>"
      ],
      "text/plain": [
       "<IPython.core.display.Image object>"
      ]
     },
     "metadata": {},
     "output_type": "display_data"
    },
    {
     "name": "stdout",
     "output_type": "stream",
     "text": [
      "Gift (Part.1) - ARTISTNAME\n",
      "http://www.melon.com/album/detail.htm?albumId=663561\n"
     ]
    },
    {
     "data": {
      "text/html": [
       "<img src=\"http://cdnimg.melon.co.kr/cm/album/images/026/90/960/2690960_500.jpg/melon/resize/40/quality/80/optimize\"/>"
      ],
      "text/plain": [
       "<IPython.core.display.Image object>"
      ]
     },
     "metadata": {},
     "output_type": "display_data"
    },
    {
     "name": "stdout",
     "output_type": "stream",
     "text": [
      "THE GOLD (Original Recording Remastered) - ARTISTNAME\n",
      "http://www.melon.com/album/detail.htm?albumId=2690960\n"
     ]
    },
    {
     "data": {
      "text/html": [
       "<img src=\"http://cdnimg.melon.co.kr/cm/album/images/022/44/822/2244822_500.jpg/melon/resize/40/quality/80/optimize\"/>"
      ],
      "text/plain": [
       "<IPython.core.display.Image object>"
      ]
     },
     "metadata": {},
     "output_type": "display_data"
    },
    {
     "name": "stdout",
     "output_type": "stream",
     "text": [
      "야생화 - ARTISTNAME\n",
      "http://www.melon.com/album/detail.htm?albumId=2244822\n"
     ]
    },
    {
     "data": {
      "text/html": [
       "<img src=\"http://cdnimg.melon.co.kr/cm/album/images/022/92/019/2292019_500.jpg/melon/resize/40/quality/80/optimize\"/>"
      ],
      "text/plain": [
       "<IPython.core.display.Image object>"
      ]
     },
     "metadata": {},
     "output_type": "display_data"
    },
    {
     "name": "stdout",
     "output_type": "stream",
     "text": [
      "HAPPY TOGETHER - ARTISTNAME\n",
      "http://www.melon.com/album/detail.htm?albumId=2292019\n"
     ]
    },
    {
     "data": {
      "text/html": [
       "<img src=\"http://cdnimg.melon.co.kr/cm/album/images/010/99/988/1099988_500.jpg/melon/resize/40/quality/80/optimize\"/>"
      ],
      "text/plain": [
       "<IPython.core.display.Image object>"
      ]
     },
     "metadata": {},
     "output_type": "display_data"
    },
    {
     "name": "stdout",
     "output_type": "stream",
     "text": [
      "Gift (Part.2) - ARTISTNAME\n",
      "http://www.melon.com/album/detail.htm?albumId=1099988\n"
     ]
    },
    {
     "data": {
      "text/html": [
       "<img src=\"http://cdnimg.melon.co.kr/cm/album/images/003/03/582/303582_500.jpg/melon/resize/40/quality/80/optimize\"/>"
      ],
      "text/plain": [
       "<IPython.core.display.Image object>"
      ]
     },
     "metadata": {},
     "output_type": "display_data"
    },
    {
     "name": "stdout",
     "output_type": "stream",
     "text": [
      "Neo Classicism - ARTISTNAME\n",
      "http://www.melon.com/album/detail.htm?albumId=303582\n"
     ]
    },
    {
     "data": {
      "text/html": [
       "<img src=\"http://cdnimg.melon.co.kr/cm/album/images/000/16/706/16706_500.jpg/melon/resize/40/quality/80/optimize\"/>"
      ],
      "text/plain": [
       "<IPython.core.display.Image object>"
      ]
     },
     "metadata": {},
     "output_type": "display_data"
    },
    {
     "name": "stdout",
     "output_type": "stream",
     "text": [
      "Time Honored Voice - ARTISTNAME\n",
      "http://www.melon.com/album/detail.htm?albumId=16706\n"
     ]
    },
    {
     "data": {
      "text/html": [
       "<img src=\"http://cdnimg.melon.co.kr/cm/album/images/023/12/480/2312480_500.jpg/melon/resize/40/quality/80/optimize\"/>"
      ],
      "text/plain": [
       "<IPython.core.display.Image object>"
      ]
     },
     "metadata": {},
     "output_type": "display_data"
    },
    {
     "name": "stdout",
     "output_type": "stream",
     "text": [
      "Shine Your Light - ARTISTNAME\n",
      "http://www.melon.com/album/detail.htm?albumId=2312480\n"
     ]
    },
    {
     "data": {
      "text/html": [
       "<img src=\"http://cdnimg.melon.co.kr/cm/album/images/020/74/607/2074607_500.jpg/melon/resize/40/quality/80/optimize\"/>"
      ],
      "text/plain": [
       "<IPython.core.display.Image object>"
      ]
     },
     "metadata": {},
     "output_type": "display_data"
    },
    {
     "name": "stdout",
     "output_type": "stream",
     "text": [
      "나를 넘는다 - ARTISTNAME\n",
      "http://www.melon.com/album/detail.htm?albumId=2074607\n",
      "\n",
      "## SONG ##\n"
     ]
    },
    {
     "data": {
      "text/html": [
       "<img src=\"http://cdnimg.melon.co.kr/cm/album/images/100/01/952/10001952_500.jpg/melon/resize/40/quality/80/optimize\"/>"
      ],
      "text/plain": [
       "<IPython.core.display.Image object>"
      ]
     },
     "metadata": {},
     "output_type": "display_data"
    },
    {
     "name": "stdout",
     "output_type": "stream",
     "text": [
      "[I am A Dreamer] 숨 - 박효신\n",
      "http://www.melon.com/song/detail.htm?songId=30011624\n"
     ]
    },
    {
     "data": {
      "text/html": [
       "<img src=\"http://cdnimg.melon.co.kr/cm/album/images/022/44/822/2244822_500.jpg/melon/resize/40/quality/80/optimize\"/>"
      ],
      "text/plain": [
       "<IPython.core.display.Image object>"
      ]
     },
     "metadata": {},
     "output_type": "display_data"
    },
    {
     "name": "stdout",
     "output_type": "stream",
     "text": [
      "[야생화] 야생화 - 박효신\n",
      "http://www.melon.com/song/detail.htm?songId=4543502\n"
     ]
    },
    {
     "data": {
      "text/html": [
       "<img src=\"http://cdnimg.melon.co.kr/cm/album/images/000/03/982/3982_500.jpg/melon/resize/40/quality/80/optimize\"/>"
      ],
      "text/plain": [
       "<IPython.core.display.Image object>"
      ]
     },
     "metadata": {},
     "output_type": "display_data"
    },
    {
     "name": "stdout",
     "output_type": "stream",
     "text": [
      "[해줄수 없는일] 해줄 수 없는 일 - 박효신\n",
      "http://www.melon.com/song/detail.htm?songId=85707\n"
     ]
    },
    {
     "data": {
      "text/html": [
       "<img src=\"http://cdnimg.melon.co.kr/cm/album/images/000/43/841/43841_500.jpg/melon/resize/40/quality/80/optimize\"/>"
      ],
      "text/plain": [
       "<IPython.core.display.Image object>"
      ]
     },
     "metadata": {},
     "output_type": "display_data"
    },
    {
     "name": "stdout",
     "output_type": "stream",
     "text": [
      "[미안하다 사랑한다 OST] 눈의 꽃 - 박효신\n",
      "http://www.melon.com/song/detail.htm?songId=623902\n"
     ]
    },
    {
     "data": {
      "text/html": [
       "<img src=\"http://cdnimg.melon.co.kr/cm/album/images/000/16/706/16706_500.jpg/melon/resize/40/quality/80/optimize\"/>"
      ],
      "text/plain": [
       "<IPython.core.display.Image object>"
      ]
     },
     "metadata": {},
     "output_type": "display_data"
    },
    {
     "name": "stdout",
     "output_type": "stream",
     "text": [
      "[Time Honored Voice] 좋은사람 - 박효신\n",
      "http://www.melon.com/song/detail.htm?songId=430228\n"
     ]
    },
    {
     "data": {
      "text/html": [
       "<img src=\"http://cdnimg.melon.co.kr/cm/album/images/003/03/582/303582_500.jpg/melon/resize/40/quality/80/optimize\"/>"
      ],
      "text/plain": [
       "<IPython.core.display.Image object>"
      ]
     },
     "metadata": {},
     "output_type": "display_data"
    },
    {
     "name": "stdout",
     "output_type": "stream",
     "text": [
      "[Neo Classicism] 기억속의 먼 그대에게 - 박효신\n",
      "http://www.melon.com/song/detail.htm?songId=851429\n"
     ]
    },
    {
     "data": {
      "text/html": [
       "<img src=\"http://cdnimg.melon.co.kr/cm/album/images/003/43/653/343653_500.jpg/melon/resize/40/quality/80/optimize\"/>"
      ],
      "text/plain": [
       "<IPython.core.display.Image object>"
      ]
     },
     "metadata": {},
     "output_type": "display_data"
    },
    {
     "name": "stdout",
     "output_type": "stream",
     "text": [
      "[The Breeze Of Sea] 추억은 사랑을 닮아 - 박효신\n",
      "http://www.melon.com/song/detail.htm?songId=1560045\n"
     ]
    },
    {
     "data": {
      "text/html": [
       "<img src=\"http://cdnimg.melon.co.kr/cm/album/images/020/97/247/2097247_500.jpg/melon/resize/40/quality/80/optimize\"/>"
      ],
      "text/plain": [
       "<IPython.core.display.Image object>"
      ]
     },
     "metadata": {},
     "output_type": "display_data"
    },
    {
     "name": "stdout",
     "output_type": "stream",
     "text": [
      "[Gift E.C.H.O] 사랑한 후에 - 박효신\n",
      "http://www.melon.com/song/detail.htm?songId=3743329\n"
     ]
    },
    {
     "data": {
      "text/html": [
       "<img src=\"http://cdnimg.melon.co.kr/cm/album/images/000/01/111/1111_500.jpg/melon/resize/40/quality/80/optimize\"/>"
      ],
      "text/plain": [
       "<IPython.core.display.Image object>"
      ]
     },
     "metadata": {},
     "output_type": "display_data"
    },
    {
     "name": "stdout",
     "output_type": "stream",
     "text": [
      "[Second Story] 동경 - 박효신\n",
      "http://www.melon.com/song/detail.htm?songId=10837\n"
     ]
    },
    {
     "data": {
      "text/html": [
       "<img src=\"http://cdnimg.melon.co.kr/cm/album/images/100/01/952/10001952_500.jpg/melon/resize/40/quality/80/optimize\"/>"
      ],
      "text/plain": [
       "<IPython.core.display.Image object>"
      ]
     },
     "metadata": {},
     "output_type": "display_data"
    },
    {
     "name": "stdout",
     "output_type": "stream",
     "text": [
      "[I am A Dreamer] Home - 박효신\n",
      "http://www.melon.com/song/detail.htm?songId=30017602\n"
     ]
    },
    {
     "data": {
      "text/html": [
       "<img src=\"http://cdnimg.melon.co.kr/cm/album/images/000/03/982/3982_500.jpg/melon/resize/40/quality/80/optimize\"/>"
      ],
      "text/plain": [
       "<IPython.core.display.Image object>"
      ]
     },
     "metadata": {},
     "output_type": "display_data"
    },
    {
     "name": "stdout",
     "output_type": "stream",
     "text": [
      "[해줄수 없는일] 바보 - 박효신\n",
      "http://www.melon.com/song/detail.htm?songId=85108\n"
     ]
    },
    {
     "data": {
      "text/html": [
       "<img src=\"http://cdnimg.melon.co.kr/cm/album/images/020/97/247/2097247_500.jpg/melon/resize/40/quality/80/optimize\"/>"
      ],
      "text/plain": [
       "<IPython.core.display.Image object>"
      ]
     },
     "metadata": {},
     "output_type": "display_data"
    },
    {
     "name": "stdout",
     "output_type": "stream",
     "text": [
      "[Gift E.C.H.O] Gift - 박효신\n",
      "http://www.melon.com/song/detail.htm?songId=3743328\n"
     ]
    },
    {
     "data": {
      "text/html": [
       "<img src=\"http://cdnimg.melon.co.kr/cm/album/images/100/01/952/10001952_500.jpg/melon/resize/40/quality/80/optimize\"/>"
      ],
      "text/plain": [
       "<IPython.core.display.Image object>"
      ]
     },
     "metadata": {},
     "output_type": "display_data"
    },
    {
     "name": "stdout",
     "output_type": "stream",
     "text": [
      "[I am A Dreamer] Beautiful Tomorrow - 박효신\n",
      "http://www.melon.com/song/detail.htm?songId=30017605\n"
     ]
    },
    {
     "data": {
      "text/html": [
       "<img src=\"http://cdnimg.melon.co.kr/cm/album/images/003/43/653/343653_500.jpg/melon/resize/40/quality/80/optimize\"/>"
      ],
      "text/plain": [
       "<IPython.core.display.Image object>"
      ]
     },
     "metadata": {},
     "output_type": "display_data"
    },
    {
     "name": "stdout",
     "output_type": "stream",
     "text": [
      "[The Breeze Of Sea] 그립고... 그리운... - 박효신\n",
      "http://www.melon.com/song/detail.htm?songId=1560051\n"
     ]
    },
    {
     "data": {
      "text/html": [
       "<img src=\"http://cdnimg.melon.co.kr/cm/album/images/020/97/247/2097247_500.jpg/melon/resize/40/quality/80/optimize\"/>"
      ],
      "text/plain": [
       "<IPython.core.display.Image object>"
      ]
     },
     "metadata": {},
     "output_type": "display_data"
    },
    {
     "name": "stdout",
     "output_type": "stream",
     "text": [
      "[Gift E.C.H.O] 널 사랑한다 - 박효신\n",
      "http://www.melon.com/song/detail.htm?songId=3743340\n"
     ]
    }
   ],
   "source": [
    "melon_search('박효신')"
   ]
  },
  {
   "cell_type": "markdown",
   "metadata": {},
   "source": [
    "# CSV"
   ]
  },
  {
   "cell_type": "code",
   "execution_count": 36,
   "metadata": {
    "collapsed": false
   },
   "outputs": [],
   "source": [
    "lines = '''월요웹툰,화요웹툰,수요웹툰,목요웹툰,금요웹툰,토요웹툰,일요웹툰\n",
    "신의 탑,마음의소리,고수,기기괴괴,덴마,호랑이형님,열럽전사\n",
    "귀전구담,노블레스,퍼미스미션,하루 3컷,테러맨,부활남,다이스\n",
    "히어로메이커,하이브,DEY 호러채널,마술사,오즈랜드,유미의세포들,조선왕조실톡'''\n",
    "\n",
    "with open('webtoon.csv', 'wt', encoding='utf8') as f:\n",
    "    f.write(lines)"
   ]
  },
  {
   "cell_type": "code",
   "execution_count": 37,
   "metadata": {
    "collapsed": false
   },
   "outputs": [],
   "source": [
    "rows = [\n",
    "    ['월요웹툰', '화요웹툰', '수요웹툰', '목요웹툰', '금요웹툰', '토요웹툰', '일요웹툰'],\n",
    "    ['신의 탑', '마음의소리', '고수', '기기괴괴', '덴마', '호랑이형님', '열럽전사'],\n",
    "    ['귀전구담', '노블레스', '퍼미스미션', '하루 3컷', '테러맨', '부활남', '다이스'], ['히어로메이커', '하이브', 'DEY 호러채널', '마술사', '오즈랜드', '유미의세포들', '조선왕조실톡'],\n",
    "]\n",
    "lines = '\\r\\n'.join(','.join(row) for row in rows)\n",
    "\n",
    "with open('webtoon.csv', 'wt', encoding='utf8') as f:\n",
    "    f.write(lines)"
   ]
  },
  {
   "cell_type": "code",
   "execution_count": 55,
   "metadata": {
    "collapsed": false
   },
   "outputs": [],
   "source": [
    "import csv\n",
    "\n",
    "rows = [\n",
    "    ['월요웹툰', '화요웹툰', '수요웹툰', '목요웹툰', '금요웹툰', '토요웹툰', '일요웹툰'],\n",
    "    ['신의 탑', '마음의소리', '고수', '기기괴괴', '덴마', '호랑이형님', '열럽전사'],\n",
    "    ['귀전구담', '노블레스', '퍼미스미션', '하루 3컷', '테러맨', '부활남', '다이스'], ['히어로메이커', '하이브', 'DEY 호러채널', '마술사', '오즈랜드', '유미의세포들', '조선왕조실톡'],\n",
    "]\n",
    "\n",
    "with open('webtoon.csv', 'wt', encoding='utf8') as f:\n",
    "    writer = csv.writer(f) #csv파일을 쓰기모드로 오픈\n",
    "\n",
    "    # writer.writerows(rows)\n",
    "    \n",
    "    for row in rows:\n",
    "        writer.writerow(row) #row 데이터를 파일에 씀"
   ]
  },
  {
   "cell_type": "code",
   "execution_count": 49,
   "metadata": {
    "collapsed": false
   },
   "outputs": [],
   "source": [
    "import csv\n",
    "import json\n",
    "import requests\n",
    "from IPython.display import Image, display\n",
    "\n",
    "\n",
    "def melon_search_export_csv(query):\n",
    "    search_url = \"http://www.melon.com/search/keyword/index.json\"\n",
    "    params = {\n",
    "        \"jscallback\" : \"_\",\n",
    "        \"query\": query,\n",
    "    }\n",
    "    jsonp_string = requests.get(search_url, params=params).text\n",
    "    json_string = jsonp_string.replace('_(', '').replace(');', '')\n",
    "    search_result = json.loads(json_string)\n",
    "    \n",
    "    csv_filename = 'melon_search_{}.csv'.format(query)\n",
    "    \n",
    "#    with open(csv_filename, 'wt', encoding='utf8') as f:  # 한글이 깨진것처럼 보여진다면? cp949로 해보세요(한글엑셀로 보낼 때 유용).\n",
    "    with open(csv_filename, 'wt', encoding='cp949') as f:\n",
    "        writer = csv.writer(f)\n",
    "        \n",
    "        row = ['앨범명', '곡명', '가수', 'URL']\n",
    "        writer.writerow(row)\n",
    "\n",
    "        for song in search_result['SONGCONTENTS']:\n",
    "            song_url = \"http://www.melon.com/song/detail.htm?songId={SONGID}\".format(**song)\n",
    "            row = [\n",
    "                song['ALBUMNAME'],\n",
    "                song['SONGNAME'],\n",
    "                song['ARTISTNAME'],\n",
    "                song_url,\n",
    "            ]\n",
    "            writer.writerow(row)"
   ]
  },
  {
   "cell_type": "code",
   "execution_count": 50,
   "metadata": {
    "collapsed": false
   },
   "outputs": [],
   "source": [
    "melon_search_export_csv(\"박효신\")"
   ]
  },
  {
   "cell_type": "code",
   "execution_count": null,
   "metadata": {
    "collapsed": true
   },
   "outputs": [],
   "source": []
  }
 ],
 "metadata": {
  "kernelspec": {
   "display_name": "Python 3",
   "language": "python",
   "name": "python3"
  },
  "language_info": {
   "codemirror_mode": {
    "name": "ipython",
    "version": 3
   },
   "file_extension": ".py",
   "mimetype": "text/x-python",
   "name": "python",
   "nbconvert_exporter": "python",
   "pygments_lexer": "ipython3",
   "version": "3.5.1"
  }
 },
 "nbformat": 4,
 "nbformat_minor": 0
}
